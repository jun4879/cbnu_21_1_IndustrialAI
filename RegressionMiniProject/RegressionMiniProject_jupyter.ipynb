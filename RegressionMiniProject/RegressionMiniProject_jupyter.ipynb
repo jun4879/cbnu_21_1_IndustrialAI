{
 "cells": [
  {
   "cell_type": "code",
   "execution_count": 1,
   "id": "traditional-hands",
   "metadata": {
    "execution": {
     "iopub.execute_input": "2021-05-06T06:29:09.472113Z",
     "iopub.status.busy": "2021-05-06T06:29:09.472113Z",
     "iopub.status.idle": "2021-05-06T06:29:11.405159Z",
     "shell.execute_reply": "2021-05-06T06:29:11.404036Z",
     "shell.execute_reply.started": "2021-05-06T06:29:09.472113Z"
    },
    "tags": []
   },
   "outputs": [],
   "source": [
    "import pandas as pd\n",
    "import numpy as np\n",
    "from sklearn.model_selection import train_test_split\n",
    "from sklearn import preprocessing\n",
    "from sklearn.linear_model import LinearRegression, Ridge, Lasso, ElasticNet\n",
    "from sklearn.svm import SVR\n",
    "from sklearn.metrics import mean_squared_error\n",
    "from sklearn.pipeline import make_pipeline"
   ]
  },
  {
   "cell_type": "code",
   "execution_count": 2,
   "id": "stainless-hotel",
   "metadata": {
    "execution": {
     "iopub.execute_input": "2021-05-06T06:29:11.406102Z",
     "iopub.status.busy": "2021-05-06T06:29:11.406102Z",
     "iopub.status.idle": "2021-05-06T06:29:11.480316Z",
     "shell.execute_reply": "2021-05-06T06:29:11.479240Z",
     "shell.execute_reply.started": "2021-05-06T06:29:11.406102Z"
    },
    "tags": []
   },
   "outputs": [
    {
     "name": "stdout",
     "output_type": "stream",
     "text": [
      "<class 'pandas.core.frame.DataFrame'>\n",
      "Int64Index: 1551 entries, 0 to 1550\n",
      "Data columns (total 20 columns):\n",
      " #   Column    Non-Null Count  Dtype  \n",
      "---  ------    --------------  -----  \n",
      " 0   회사코드      1551 non-null   int64  \n",
      " 1   사업장코드     1551 non-null   int64  \n",
      " 2   생산일자      1551 non-null   object \n",
      " 3   생산순번      1551 non-null   int64  \n",
      " 4   생산지시생성일자  1551 non-null   object \n",
      " 5   생산지시순번    1551 non-null   int64  \n",
      " 6   생산진행순번    57 non-null     float64\n",
      " 7   품목코드      1551 non-null   object \n",
      " 8   target    1551 non-null   float64\n",
      " 9   Line코드    1551 non-null   object \n",
      " 10  실적작업장     1551 non-null   object \n",
      " 11  표준ST      1551 non-null   float64\n",
      " 12  작업상태      1551 non-null   int64  \n",
      " 13  작업시작일시    1551 non-null   object \n",
      " 14  종료예상일시    0 non-null      float64\n",
      " 15  작업종료일시    1551 non-null   object \n",
      " 16  투입인원      1551 non-null   int64  \n",
      " 17  작업시간      1551 non-null   float64\n",
      " 18  등록자ID     1551 non-null   int64  \n",
      " 19  등록시간      1551 non-null   object \n",
      "dtypes: float64(5), int64(7), object(8)\n",
      "memory usage: 254.5+ KB\n"
     ]
    }
   ],
   "source": [
    "raw_data = pd.read_csv(\"./product_regression.csv\", index_col = 0)\n",
    "raw_data.info()"
   ]
  },
  {
   "cell_type": "code",
   "execution_count": 3,
   "id": "grand-respect",
   "metadata": {
    "execution": {
     "iopub.execute_input": "2021-05-06T06:29:11.481329Z",
     "iopub.status.busy": "2021-05-06T06:29:11.481329Z",
     "iopub.status.idle": "2021-05-06T06:29:11.510312Z",
     "shell.execute_reply": "2021-05-06T06:29:11.509811Z",
     "shell.execute_reply.started": "2021-05-06T06:29:11.481329Z"
    },
    "tags": []
   },
   "outputs": [
    {
     "data": {
      "text/html": [
       "<div>\n",
       "<style scoped>\n",
       "    .dataframe tbody tr th:only-of-type {\n",
       "        vertical-align: middle;\n",
       "    }\n",
       "\n",
       "    .dataframe tbody tr th {\n",
       "        vertical-align: top;\n",
       "    }\n",
       "\n",
       "    .dataframe thead th {\n",
       "        text-align: right;\n",
       "    }\n",
       "</style>\n",
       "<table border=\"1\" class=\"dataframe\">\n",
       "  <thead>\n",
       "    <tr style=\"text-align: right;\">\n",
       "      <th></th>\n",
       "      <th>회사코드</th>\n",
       "      <th>사업장코드</th>\n",
       "      <th>생산일자</th>\n",
       "      <th>생산순번</th>\n",
       "      <th>생산지시생성일자</th>\n",
       "      <th>생산지시순번</th>\n",
       "      <th>생산진행순번</th>\n",
       "      <th>품목코드</th>\n",
       "      <th>target</th>\n",
       "      <th>Line코드</th>\n",
       "      <th>실적작업장</th>\n",
       "      <th>표준ST</th>\n",
       "      <th>작업상태</th>\n",
       "      <th>작업시작일시</th>\n",
       "      <th>종료예상일시</th>\n",
       "      <th>작업종료일시</th>\n",
       "      <th>투입인원</th>\n",
       "      <th>작업시간</th>\n",
       "      <th>등록자ID</th>\n",
       "      <th>등록시간</th>\n",
       "    </tr>\n",
       "  </thead>\n",
       "  <tbody>\n",
       "    <tr>\n",
       "      <th>1546</th>\n",
       "      <td>139</td>\n",
       "      <td>0</td>\n",
       "      <td>2021-04-21 00:00:00</td>\n",
       "      <td>41</td>\n",
       "      <td>2021-04-15 00:00:00</td>\n",
       "      <td>58</td>\n",
       "      <td>NaN</td>\n",
       "      <td>72312724118</td>\n",
       "      <td>88.0</td>\n",
       "      <td>L21</td>\n",
       "      <td>A22</td>\n",
       "      <td>0.836</td>\n",
       "      <td>3</td>\n",
       "      <td>2021-04-21 13:50:54.000</td>\n",
       "      <td>NaN</td>\n",
       "      <td>2021-04-21 15:25:09.383</td>\n",
       "      <td>1</td>\n",
       "      <td>95.0</td>\n",
       "      <td>117</td>\n",
       "      <td>2021-04-21 13:50:52.523</td>\n",
       "    </tr>\n",
       "    <tr>\n",
       "      <th>1547</th>\n",
       "      <td>139</td>\n",
       "      <td>0</td>\n",
       "      <td>2021-04-21 00:00:00</td>\n",
       "      <td>42</td>\n",
       "      <td>2021-04-02 00:00:00</td>\n",
       "      <td>31</td>\n",
       "      <td>NaN</td>\n",
       "      <td>38120028</td>\n",
       "      <td>74.0</td>\n",
       "      <td>L21</td>\n",
       "      <td>A21</td>\n",
       "      <td>6.930</td>\n",
       "      <td>3</td>\n",
       "      <td>2021-04-20 15:00:09.000</td>\n",
       "      <td>NaN</td>\n",
       "      <td>2021-04-21 15:38:31.933</td>\n",
       "      <td>1</td>\n",
       "      <td>1478.0</td>\n",
       "      <td>120</td>\n",
       "      <td>2021-04-20 15:00:07.090</td>\n",
       "    </tr>\n",
       "    <tr>\n",
       "      <th>1548</th>\n",
       "      <td>139</td>\n",
       "      <td>0</td>\n",
       "      <td>2021-04-21 00:00:00</td>\n",
       "      <td>43</td>\n",
       "      <td>2021-04-13 00:00:00</td>\n",
       "      <td>11</td>\n",
       "      <td>NaN</td>\n",
       "      <td>38020117</td>\n",
       "      <td>150.0</td>\n",
       "      <td>L21</td>\n",
       "      <td>A21</td>\n",
       "      <td>1.452</td>\n",
       "      <td>3</td>\n",
       "      <td>2021-04-21 14:21:47.000</td>\n",
       "      <td>NaN</td>\n",
       "      <td>2021-04-21 15:41:20.297</td>\n",
       "      <td>1</td>\n",
       "      <td>80.0</td>\n",
       "      <td>117</td>\n",
       "      <td>2021-04-21 14:21:37.520</td>\n",
       "    </tr>\n",
       "    <tr>\n",
       "      <th>1549</th>\n",
       "      <td>139</td>\n",
       "      <td>0</td>\n",
       "      <td>2021-04-21 00:00:00</td>\n",
       "      <td>44</td>\n",
       "      <td>2021-04-02 00:00:00</td>\n",
       "      <td>31</td>\n",
       "      <td>NaN</td>\n",
       "      <td>38120028</td>\n",
       "      <td>6.0</td>\n",
       "      <td>L21</td>\n",
       "      <td>A21</td>\n",
       "      <td>6.930</td>\n",
       "      <td>3</td>\n",
       "      <td>2021-04-21 15:40:32.000</td>\n",
       "      <td>NaN</td>\n",
       "      <td>2021-04-21 15:41:52.460</td>\n",
       "      <td>1</td>\n",
       "      <td>1.0</td>\n",
       "      <td>117</td>\n",
       "      <td>2021-04-21 15:38:31.937</td>\n",
       "    </tr>\n",
       "    <tr>\n",
       "      <th>1550</th>\n",
       "      <td>139</td>\n",
       "      <td>0</td>\n",
       "      <td>2021-04-21 00:00:00</td>\n",
       "      <td>48</td>\n",
       "      <td>2021-04-13 00:00:00</td>\n",
       "      <td>15</td>\n",
       "      <td>NaN</td>\n",
       "      <td>38040050</td>\n",
       "      <td>179.0</td>\n",
       "      <td>L21</td>\n",
       "      <td>A22</td>\n",
       "      <td>2.343</td>\n",
       "      <td>3</td>\n",
       "      <td>2021-04-21 11:58:41.000</td>\n",
       "      <td>NaN</td>\n",
       "      <td>2021-04-21 16:26:10.020</td>\n",
       "      <td>1</td>\n",
       "      <td>268.0</td>\n",
       "      <td>117</td>\n",
       "      <td>2021-04-21 11:58:31.517</td>\n",
       "    </tr>\n",
       "  </tbody>\n",
       "</table>\n",
       "</div>"
      ],
      "text/plain": [
       "      회사코드  사업장코드                 생산일자  생산순번             생산지시생성일자  생산지시순번  \\\n",
       "1546   139      0  2021-04-21 00:00:00    41  2021-04-15 00:00:00      58   \n",
       "1547   139      0  2021-04-21 00:00:00    42  2021-04-02 00:00:00      31   \n",
       "1548   139      0  2021-04-21 00:00:00    43  2021-04-13 00:00:00      11   \n",
       "1549   139      0  2021-04-21 00:00:00    44  2021-04-02 00:00:00      31   \n",
       "1550   139      0  2021-04-21 00:00:00    48  2021-04-13 00:00:00      15   \n",
       "\n",
       "      생산진행순번         품목코드  target Line코드 실적작업장   표준ST  작업상태  \\\n",
       "1546     NaN  72312724118    88.0    L21   A22  0.836     3   \n",
       "1547     NaN     38120028    74.0    L21   A21  6.930     3   \n",
       "1548     NaN     38020117   150.0    L21   A21  1.452     3   \n",
       "1549     NaN     38120028     6.0    L21   A21  6.930     3   \n",
       "1550     NaN     38040050   179.0    L21   A22  2.343     3   \n",
       "\n",
       "                       작업시작일시  종료예상일시                   작업종료일시  투입인원    작업시간  \\\n",
       "1546  2021-04-21 13:50:54.000     NaN  2021-04-21 15:25:09.383     1    95.0   \n",
       "1547  2021-04-20 15:00:09.000     NaN  2021-04-21 15:38:31.933     1  1478.0   \n",
       "1548  2021-04-21 14:21:47.000     NaN  2021-04-21 15:41:20.297     1    80.0   \n",
       "1549  2021-04-21 15:40:32.000     NaN  2021-04-21 15:41:52.460     1     1.0   \n",
       "1550  2021-04-21 11:58:41.000     NaN  2021-04-21 16:26:10.020     1   268.0   \n",
       "\n",
       "      등록자ID                     등록시간  \n",
       "1546    117  2021-04-21 13:50:52.523  \n",
       "1547    120  2021-04-20 15:00:07.090  \n",
       "1548    117  2021-04-21 14:21:37.520  \n",
       "1549    117  2021-04-21 15:38:31.937  \n",
       "1550    117  2021-04-21 11:58:31.517  "
      ]
     },
     "execution_count": 3,
     "metadata": {},
     "output_type": "execute_result"
    }
   ],
   "source": [
    "df = raw_data.copy()\n",
    "df.tail()"
   ]
  },
  {
   "cell_type": "code",
   "execution_count": 4,
   "id": "convenient-promise",
   "metadata": {
    "execution": {
     "iopub.execute_input": "2021-05-06T06:29:11.511417Z",
     "iopub.status.busy": "2021-05-06T06:29:11.511417Z",
     "iopub.status.idle": "2021-05-06T06:29:11.524787Z",
     "shell.execute_reply": "2021-05-06T06:29:11.524787Z",
     "shell.execute_reply.started": "2021-05-06T06:29:11.511417Z"
    },
    "tags": []
   },
   "outputs": [],
   "source": [
    "# 데이터 unique 값 확인\n",
    "#for column in df.columns:\n",
    "#    print(column,\": \", df[column].unique())\n",
    "#    print(\"\")"
   ]
  },
  {
   "cell_type": "code",
   "execution_count": 5,
   "id": "alert-order",
   "metadata": {
    "execution": {
     "iopub.execute_input": "2021-05-06T06:29:11.526793Z",
     "iopub.status.busy": "2021-05-06T06:29:11.525794Z",
     "iopub.status.idle": "2021-05-06T06:29:11.540402Z",
     "shell.execute_reply": "2021-05-06T06:29:11.539736Z",
     "shell.execute_reply.started": "2021-05-06T06:29:11.526793Z"
    },
    "tags": []
   },
   "outputs": [
    {
     "data": {
      "text/html": [
       "<div>\n",
       "<style scoped>\n",
       "    .dataframe tbody tr th:only-of-type {\n",
       "        vertical-align: middle;\n",
       "    }\n",
       "\n",
       "    .dataframe tbody tr th {\n",
       "        vertical-align: top;\n",
       "    }\n",
       "\n",
       "    .dataframe thead th {\n",
       "        text-align: right;\n",
       "    }\n",
       "</style>\n",
       "<table border=\"1\" class=\"dataframe\">\n",
       "  <thead>\n",
       "    <tr style=\"text-align: right;\">\n",
       "      <th></th>\n",
       "      <th>생산순번</th>\n",
       "      <th>생산지시순번</th>\n",
       "      <th>target</th>\n",
       "      <th>실적작업장</th>\n",
       "      <th>투입인원</th>\n",
       "      <th>작업시간</th>\n",
       "    </tr>\n",
       "  </thead>\n",
       "  <tbody>\n",
       "    <tr>\n",
       "      <th>0</th>\n",
       "      <td>9</td>\n",
       "      <td>55</td>\n",
       "      <td>365.0</td>\n",
       "      <td>A11</td>\n",
       "      <td>3</td>\n",
       "      <td>8.0</td>\n",
       "    </tr>\n",
       "    <tr>\n",
       "      <th>1</th>\n",
       "      <td>11</td>\n",
       "      <td>68</td>\n",
       "      <td>20.0</td>\n",
       "      <td>A23</td>\n",
       "      <td>2</td>\n",
       "      <td>3.0</td>\n",
       "    </tr>\n",
       "    <tr>\n",
       "      <th>2</th>\n",
       "      <td>14</td>\n",
       "      <td>59</td>\n",
       "      <td>3.0</td>\n",
       "      <td>A23</td>\n",
       "      <td>2</td>\n",
       "      <td>0.0</td>\n",
       "    </tr>\n",
       "    <tr>\n",
       "      <th>3</th>\n",
       "      <td>15</td>\n",
       "      <td>54</td>\n",
       "      <td>76.0</td>\n",
       "      <td>A23</td>\n",
       "      <td>2</td>\n",
       "      <td>0.0</td>\n",
       "    </tr>\n",
       "    <tr>\n",
       "      <th>4</th>\n",
       "      <td>17</td>\n",
       "      <td>44</td>\n",
       "      <td>300.0</td>\n",
       "      <td>A22</td>\n",
       "      <td>1</td>\n",
       "      <td>1.0</td>\n",
       "    </tr>\n",
       "  </tbody>\n",
       "</table>\n",
       "</div>"
      ],
      "text/plain": [
       "   생산순번  생산지시순번  target 실적작업장  투입인원  작업시간\n",
       "0     9      55   365.0   A11     3   8.0\n",
       "1    11      68    20.0   A23     2   3.0\n",
       "2    14      59     3.0   A23     2   0.0\n",
       "3    15      54    76.0   A23     2   0.0\n",
       "4    17      44   300.0   A22     1   1.0"
      ]
     },
     "execution_count": 5,
     "metadata": {},
     "output_type": "execute_result"
    }
   ],
   "source": [
    "# 전처리\n",
    "# 등록자ID, 등록시간 : 생산실적 예측에 영향을 미치지 않을 컬럼이므로 제거\n",
    "# Line코드 : L21 작업라인에 대한 데이터만 불러왔으므로 제거\n",
    "# 회사코드, 사업장코드, 작업상태 : 모두 같은 값이므로 제거\n",
    "# 생산진행순번 : 결측치 다수 이므로 제거\n",
    "# 종료예상일시 : 값이 모두 결측치\n",
    "# 작업시작일시 - 작업종료일시 = 작업시간 : 작업시작일시, 작업종료일시 제거\n",
    "# 표준 ST(Standard Time) : 작업시간 기준에 대한 명시이므로 제거\n",
    "# 생산일자 = 작업종료일시 일자 : 제거\n",
    "# 품목코드 : Regression 모델 적용을 위한 Encoding이 필요하나 생략\n",
    "df_drop_columns = df.drop(['등록자ID','등록시간','Line코드','회사코드','사업장코드',\n",
    "                           '작업상태','생산진행순번','종료예상일시','작업시작일시',\n",
    "                           '작업종료일시','표준ST','생산일자','생산지시생성일자',\n",
    "                           '품목코드'],axis=1)\n",
    "df_drop_columns.head()"
   ]
  },
  {
   "cell_type": "code",
   "execution_count": 6,
   "id": "appreciated-livestock",
   "metadata": {
    "execution": {
     "iopub.execute_input": "2021-05-06T06:29:11.541662Z",
     "iopub.status.busy": "2021-05-06T06:29:11.541160Z",
     "iopub.status.idle": "2021-05-06T06:29:11.555035Z",
     "shell.execute_reply": "2021-05-06T06:29:11.554534Z",
     "shell.execute_reply.started": "2021-05-06T06:29:11.541662Z"
    }
   },
   "outputs": [
    {
     "name": "stdout",
     "output_type": "stream",
     "text": [
      "<class 'pandas.core.frame.DataFrame'>\n",
      "Int64Index: 1551 entries, 0 to 1550\n",
      "Data columns (total 6 columns):\n",
      " #   Column  Non-Null Count  Dtype  \n",
      "---  ------  --------------  -----  \n",
      " 0   생산순번    1551 non-null   int64  \n",
      " 1   생산지시순번  1551 non-null   int64  \n",
      " 2   target  1551 non-null   float64\n",
      " 3   실적작업장   1551 non-null   object \n",
      " 4   투입인원    1551 non-null   int64  \n",
      " 5   작업시간    1551 non-null   float64\n",
      "dtypes: float64(2), int64(3), object(1)\n",
      "memory usage: 84.8+ KB\n"
     ]
    }
   ],
   "source": [
    "df_drop_columns.info()"
   ]
  },
  {
   "cell_type": "code",
   "execution_count": 7,
   "id": "measured-green",
   "metadata": {
    "execution": {
     "iopub.execute_input": "2021-05-06T06:29:11.560049Z",
     "iopub.status.busy": "2021-05-06T06:29:11.559860Z",
     "iopub.status.idle": "2021-05-06T06:29:11.585225Z",
     "shell.execute_reply": "2021-05-06T06:29:11.584780Z",
     "shell.execute_reply.started": "2021-05-06T06:29:11.560049Z"
    }
   },
   "outputs": [
    {
     "name": "stdout",
     "output_type": "stream",
     "text": [
      "<class 'pandas.core.frame.DataFrame'>\n",
      "Int64Index: 1272 entries, 0 to 1550\n",
      "Data columns (total 6 columns):\n",
      " #   Column  Non-Null Count  Dtype  \n",
      "---  ------  --------------  -----  \n",
      " 0   생산순번    1272 non-null   int64  \n",
      " 1   생산지시순번  1272 non-null   int64  \n",
      " 2   target  1272 non-null   float64\n",
      " 3   실적작업장   1272 non-null   object \n",
      " 4   투입인원    1272 non-null   int64  \n",
      " 5   작업시간    1272 non-null   float64\n",
      "dtypes: float64(2), int64(3), object(1)\n",
      "memory usage: 69.6+ KB\n"
     ]
    }
   ],
   "source": [
    "# 작업시간 0인 row 제거\n",
    "df_drop_columns = df_drop_columns.query('작업시간!=0')\n",
    "df_drop_columns.info()"
   ]
  },
  {
   "cell_type": "code",
   "execution_count": 8,
   "id": "standing-filter",
   "metadata": {
    "execution": {
     "iopub.execute_input": "2021-05-06T06:29:11.587246Z",
     "iopub.status.busy": "2021-05-06T06:29:11.586246Z",
     "iopub.status.idle": "2021-05-06T06:29:11.631346Z",
     "shell.execute_reply": "2021-05-06T06:29:11.630848Z",
     "shell.execute_reply.started": "2021-05-06T06:29:11.587246Z"
    },
    "tags": []
   },
   "outputs": [
    {
     "data": {
      "text/html": [
       "<div>\n",
       "<style scoped>\n",
       "    .dataframe tbody tr th:only-of-type {\n",
       "        vertical-align: middle;\n",
       "    }\n",
       "\n",
       "    .dataframe tbody tr th {\n",
       "        vertical-align: top;\n",
       "    }\n",
       "\n",
       "    .dataframe thead th {\n",
       "        text-align: right;\n",
       "    }\n",
       "</style>\n",
       "<table border=\"1\" class=\"dataframe\">\n",
       "  <thead>\n",
       "    <tr style=\"text-align: right;\">\n",
       "      <th></th>\n",
       "      <th>생산순번</th>\n",
       "      <th>생산지시순번</th>\n",
       "      <th>target</th>\n",
       "      <th>실적작업장</th>\n",
       "      <th>투입인원</th>\n",
       "      <th>작업시간</th>\n",
       "      <th>생산대기일수</th>\n",
       "    </tr>\n",
       "  </thead>\n",
       "  <tbody>\n",
       "    <tr>\n",
       "      <th>0</th>\n",
       "      <td>9</td>\n",
       "      <td>55</td>\n",
       "      <td>365.0</td>\n",
       "      <td>A11</td>\n",
       "      <td>3</td>\n",
       "      <td>8.0</td>\n",
       "      <td>2 days</td>\n",
       "    </tr>\n",
       "    <tr>\n",
       "      <th>1</th>\n",
       "      <td>11</td>\n",
       "      <td>68</td>\n",
       "      <td>20.0</td>\n",
       "      <td>A23</td>\n",
       "      <td>2</td>\n",
       "      <td>3.0</td>\n",
       "      <td>2 days</td>\n",
       "    </tr>\n",
       "    <tr>\n",
       "      <th>4</th>\n",
       "      <td>17</td>\n",
       "      <td>44</td>\n",
       "      <td>300.0</td>\n",
       "      <td>A22</td>\n",
       "      <td>1</td>\n",
       "      <td>1.0</td>\n",
       "      <td>2 days</td>\n",
       "    </tr>\n",
       "    <tr>\n",
       "      <th>5</th>\n",
       "      <td>17</td>\n",
       "      <td>44</td>\n",
       "      <td>300.0</td>\n",
       "      <td>A22</td>\n",
       "      <td>1</td>\n",
       "      <td>1.0</td>\n",
       "      <td>2 days</td>\n",
       "    </tr>\n",
       "    <tr>\n",
       "      <th>6</th>\n",
       "      <td>19</td>\n",
       "      <td>69</td>\n",
       "      <td>3.0</td>\n",
       "      <td>A23</td>\n",
       "      <td>2</td>\n",
       "      <td>3.0</td>\n",
       "      <td>2 days</td>\n",
       "    </tr>\n",
       "  </tbody>\n",
       "</table>\n",
       "</div>"
      ],
      "text/plain": [
       "   생산순번  생산지시순번  target 실적작업장  투입인원  작업시간 생산대기일수\n",
       "0     9      55   365.0   A11     3   8.0 2 days\n",
       "1    11      68    20.0   A23     2   3.0 2 days\n",
       "4    17      44   300.0   A22     1   1.0 2 days\n",
       "5    17      44   300.0   A22     1   1.0 2 days\n",
       "6    19      69     3.0   A23     2   3.0 2 days"
      ]
     },
     "execution_count": 8,
     "metadata": {},
     "output_type": "execute_result"
    }
   ],
   "source": [
    "# feature engineering\n",
    "# 작업시작일시 - 생산지시일지 : 생산대기시간\n",
    "df[\"작업시작일시\"] = pd.to_datetime(df[\"작업시작일시\"])\n",
    "df[\"생산지시생성일자\"] = pd.to_datetime(df[\"생산지시생성일자\"])\n",
    "df_drop_columns['생산대기일수'] = df[\"작업시작일시\"].dt.date - df[\"생산지시생성일자\"].dt.date\n",
    "df_added = df_drop_columns.copy()\n",
    "del df_drop_columns\n",
    "df_added.head()"
   ]
  },
  {
   "cell_type": "code",
   "execution_count": 9,
   "id": "mechanical-round",
   "metadata": {
    "execution": {
     "iopub.execute_input": "2021-05-06T06:29:11.632356Z",
     "iopub.status.busy": "2021-05-06T06:29:11.632356Z",
     "iopub.status.idle": "2021-05-06T06:29:11.647418Z",
     "shell.execute_reply": "2021-05-06T06:29:11.646510Z",
     "shell.execute_reply.started": "2021-05-06T06:29:11.632356Z"
    },
    "tags": []
   },
   "outputs": [
    {
     "name": "stdout",
     "output_type": "stream",
     "text": [
      "<class 'pandas.core.frame.DataFrame'>\n",
      "Int64Index: 1272 entries, 0 to 1550\n",
      "Data columns (total 7 columns):\n",
      " #   Column  Non-Null Count  Dtype          \n",
      "---  ------  --------------  -----          \n",
      " 0   생산순번    1272 non-null   int64          \n",
      " 1   생산지시순번  1272 non-null   int64          \n",
      " 2   target  1272 non-null   float64        \n",
      " 3   실적작업장   1272 non-null   object         \n",
      " 4   투입인원    1272 non-null   int64          \n",
      " 5   작업시간    1272 non-null   float64        \n",
      " 6   생산대기일수  1272 non-null   timedelta64[ns]\n",
      "dtypes: float64(2), int64(3), object(1), timedelta64[ns](1)\n",
      "memory usage: 79.5+ KB\n"
     ]
    }
   ],
   "source": [
    "df_added.info()"
   ]
  },
  {
   "cell_type": "code",
   "execution_count": 10,
   "id": "forty-haiti",
   "metadata": {
    "execution": {
     "iopub.execute_input": "2021-05-06T06:29:11.648530Z",
     "iopub.status.busy": "2021-05-06T06:29:11.648530Z",
     "iopub.status.idle": "2021-05-06T06:29:11.663135Z",
     "shell.execute_reply": "2021-05-06T06:29:11.662131Z",
     "shell.execute_reply.started": "2021-05-06T06:29:11.648530Z"
    },
    "tags": []
   },
   "outputs": [
    {
     "data": {
      "text/html": [
       "<div>\n",
       "<style scoped>\n",
       "    .dataframe tbody tr th:only-of-type {\n",
       "        vertical-align: middle;\n",
       "    }\n",
       "\n",
       "    .dataframe tbody tr th {\n",
       "        vertical-align: top;\n",
       "    }\n",
       "\n",
       "    .dataframe thead th {\n",
       "        text-align: right;\n",
       "    }\n",
       "</style>\n",
       "<table border=\"1\" class=\"dataframe\">\n",
       "  <thead>\n",
       "    <tr style=\"text-align: right;\">\n",
       "      <th></th>\n",
       "      <th>생산순번</th>\n",
       "      <th>생산지시순번</th>\n",
       "      <th>target</th>\n",
       "      <th>실적작업장</th>\n",
       "      <th>투입인원</th>\n",
       "      <th>작업시간</th>\n",
       "      <th>생산대기일수</th>\n",
       "    </tr>\n",
       "  </thead>\n",
       "  <tbody>\n",
       "    <tr>\n",
       "      <th>0</th>\n",
       "      <td>9</td>\n",
       "      <td>55</td>\n",
       "      <td>365.0</td>\n",
       "      <td>A11</td>\n",
       "      <td>3</td>\n",
       "      <td>8.0</td>\n",
       "      <td>2 days</td>\n",
       "    </tr>\n",
       "    <tr>\n",
       "      <th>1</th>\n",
       "      <td>11</td>\n",
       "      <td>68</td>\n",
       "      <td>20.0</td>\n",
       "      <td>A23</td>\n",
       "      <td>2</td>\n",
       "      <td>3.0</td>\n",
       "      <td>2 days</td>\n",
       "    </tr>\n",
       "    <tr>\n",
       "      <th>4</th>\n",
       "      <td>17</td>\n",
       "      <td>44</td>\n",
       "      <td>300.0</td>\n",
       "      <td>A22</td>\n",
       "      <td>1</td>\n",
       "      <td>1.0</td>\n",
       "      <td>2 days</td>\n",
       "    </tr>\n",
       "    <tr>\n",
       "      <th>5</th>\n",
       "      <td>17</td>\n",
       "      <td>44</td>\n",
       "      <td>300.0</td>\n",
       "      <td>A22</td>\n",
       "      <td>1</td>\n",
       "      <td>1.0</td>\n",
       "      <td>2 days</td>\n",
       "    </tr>\n",
       "    <tr>\n",
       "      <th>6</th>\n",
       "      <td>19</td>\n",
       "      <td>69</td>\n",
       "      <td>3.0</td>\n",
       "      <td>A23</td>\n",
       "      <td>2</td>\n",
       "      <td>3.0</td>\n",
       "      <td>2 days</td>\n",
       "    </tr>\n",
       "  </tbody>\n",
       "</table>\n",
       "</div>"
      ],
      "text/plain": [
       "   생산순번  생산지시순번  target 실적작업장  투입인원  작업시간 생산대기일수\n",
       "0     9      55   365.0   A11     3   8.0 2 days\n",
       "1    11      68    20.0   A23     2   3.0 2 days\n",
       "4    17      44   300.0   A22     1   1.0 2 days\n",
       "5    17      44   300.0   A22     1   1.0 2 days\n",
       "6    19      69     3.0   A23     2   3.0 2 days"
      ]
     },
     "execution_count": 10,
     "metadata": {},
     "output_type": "execute_result"
    }
   ],
   "source": [
    "df_added.head()"
   ]
  },
  {
   "cell_type": "code",
   "execution_count": 11,
   "id": "south-conversation",
   "metadata": {
    "execution": {
     "iopub.execute_input": "2021-05-06T06:29:11.664355Z",
     "iopub.status.busy": "2021-05-06T06:29:11.664355Z",
     "iopub.status.idle": "2021-05-06T06:29:11.677660Z",
     "shell.execute_reply": "2021-05-06T06:29:11.677660Z",
     "shell.execute_reply.started": "2021-05-06T06:29:11.664355Z"
    },
    "tags": []
   },
   "outputs": [
    {
     "data": {
      "text/plain": [
       "array(['A11', 'A23', 'A22', 'A21', 'A24'], dtype=object)"
      ]
     },
     "execution_count": 11,
     "metadata": {},
     "output_type": "execute_result"
    }
   ],
   "source": [
    "df_added['실적작업장'].unique()"
   ]
  },
  {
   "cell_type": "code",
   "execution_count": 12,
   "id": "noble-picnic",
   "metadata": {
    "execution": {
     "iopub.execute_input": "2021-05-06T06:29:11.678760Z",
     "iopub.status.busy": "2021-05-06T06:29:11.678760Z",
     "iopub.status.idle": "2021-05-06T06:29:11.707983Z",
     "shell.execute_reply": "2021-05-06T06:29:11.707983Z",
     "shell.execute_reply.started": "2021-05-06T06:29:11.678760Z"
    }
   },
   "outputs": [
    {
     "data": {
      "text/html": [
       "<div>\n",
       "<style scoped>\n",
       "    .dataframe tbody tr th:only-of-type {\n",
       "        vertical-align: middle;\n",
       "    }\n",
       "\n",
       "    .dataframe tbody tr th {\n",
       "        vertical-align: top;\n",
       "    }\n",
       "\n",
       "    .dataframe thead th {\n",
       "        text-align: right;\n",
       "    }\n",
       "</style>\n",
       "<table border=\"1\" class=\"dataframe\">\n",
       "  <thead>\n",
       "    <tr style=\"text-align: right;\">\n",
       "      <th></th>\n",
       "      <th>생산순번</th>\n",
       "      <th>생산지시순번</th>\n",
       "      <th>target</th>\n",
       "      <th>투입인원</th>\n",
       "      <th>작업시간</th>\n",
       "      <th>생산대기일수</th>\n",
       "      <th>실적작업장_A11</th>\n",
       "      <th>실적작업장_A21</th>\n",
       "      <th>실적작업장_A22</th>\n",
       "      <th>실적작업장_A23</th>\n",
       "      <th>실적작업장_A24</th>\n",
       "    </tr>\n",
       "  </thead>\n",
       "  <tbody>\n",
       "    <tr>\n",
       "      <th>0</th>\n",
       "      <td>9</td>\n",
       "      <td>55</td>\n",
       "      <td>365.0</td>\n",
       "      <td>3</td>\n",
       "      <td>8.0</td>\n",
       "      <td>2 days</td>\n",
       "      <td>1</td>\n",
       "      <td>0</td>\n",
       "      <td>0</td>\n",
       "      <td>0</td>\n",
       "      <td>0</td>\n",
       "    </tr>\n",
       "    <tr>\n",
       "      <th>1</th>\n",
       "      <td>11</td>\n",
       "      <td>68</td>\n",
       "      <td>20.0</td>\n",
       "      <td>2</td>\n",
       "      <td>3.0</td>\n",
       "      <td>2 days</td>\n",
       "      <td>0</td>\n",
       "      <td>0</td>\n",
       "      <td>0</td>\n",
       "      <td>1</td>\n",
       "      <td>0</td>\n",
       "    </tr>\n",
       "    <tr>\n",
       "      <th>4</th>\n",
       "      <td>17</td>\n",
       "      <td>44</td>\n",
       "      <td>300.0</td>\n",
       "      <td>1</td>\n",
       "      <td>1.0</td>\n",
       "      <td>2 days</td>\n",
       "      <td>0</td>\n",
       "      <td>0</td>\n",
       "      <td>1</td>\n",
       "      <td>0</td>\n",
       "      <td>0</td>\n",
       "    </tr>\n",
       "    <tr>\n",
       "      <th>5</th>\n",
       "      <td>17</td>\n",
       "      <td>44</td>\n",
       "      <td>300.0</td>\n",
       "      <td>1</td>\n",
       "      <td>1.0</td>\n",
       "      <td>2 days</td>\n",
       "      <td>0</td>\n",
       "      <td>0</td>\n",
       "      <td>1</td>\n",
       "      <td>0</td>\n",
       "      <td>0</td>\n",
       "    </tr>\n",
       "    <tr>\n",
       "      <th>6</th>\n",
       "      <td>19</td>\n",
       "      <td>69</td>\n",
       "      <td>3.0</td>\n",
       "      <td>2</td>\n",
       "      <td>3.0</td>\n",
       "      <td>2 days</td>\n",
       "      <td>0</td>\n",
       "      <td>0</td>\n",
       "      <td>0</td>\n",
       "      <td>1</td>\n",
       "      <td>0</td>\n",
       "    </tr>\n",
       "  </tbody>\n",
       "</table>\n",
       "</div>"
      ],
      "text/plain": [
       "   생산순번  생산지시순번  target  투입인원  작업시간 생산대기일수  실적작업장_A11  실적작업장_A21  실적작업장_A22  \\\n",
       "0     9      55   365.0     3   8.0 2 days          1          0          0   \n",
       "1    11      68    20.0     2   3.0 2 days          0          0          0   \n",
       "4    17      44   300.0     1   1.0 2 days          0          0          1   \n",
       "5    17      44   300.0     1   1.0 2 days          0          0          1   \n",
       "6    19      69     3.0     2   3.0 2 days          0          0          0   \n",
       "\n",
       "   실적작업장_A23  실적작업장_A24  \n",
       "0          0          0  \n",
       "1          1          0  \n",
       "4          0          0  \n",
       "5          0          0  \n",
       "6          1          0  "
      ]
     },
     "execution_count": 12,
     "metadata": {},
     "output_type": "execute_result"
    }
   ],
   "source": [
    "# 실적작업장 One-Hot Encoding\n",
    "df_encoded = pd.get_dummies(df_added, columns=['실적작업장'])\n",
    "df_encoded.head()"
   ]
  },
  {
   "cell_type": "code",
   "execution_count": 13,
   "id": "ecological-decision",
   "metadata": {
    "execution": {
     "iopub.execute_input": "2021-05-06T06:29:11.709263Z",
     "iopub.status.busy": "2021-05-06T06:29:11.709263Z",
     "iopub.status.idle": "2021-05-06T06:29:11.725019Z",
     "shell.execute_reply": "2021-05-06T06:29:11.724027Z",
     "shell.execute_reply.started": "2021-05-06T06:29:11.709263Z"
    },
    "tags": []
   },
   "outputs": [],
   "source": [
    "feature_columns = ['생산순번','생산지시순번','투입인원','작업시간','생산대기일수',\n",
    "                   '실적작업장_A11','실적작업장_A21','실적작업장_A22','실적작업장_A23','실적작업장_A24']"
   ]
  },
  {
   "cell_type": "code",
   "execution_count": 14,
   "id": "crazy-convert",
   "metadata": {
    "execution": {
     "iopub.execute_input": "2021-05-06T06:29:11.726040Z",
     "iopub.status.busy": "2021-05-06T06:29:11.726040Z",
     "iopub.status.idle": "2021-05-06T06:29:12.027208Z",
     "shell.execute_reply": "2021-05-06T06:29:12.026592Z",
     "shell.execute_reply.started": "2021-05-06T06:29:11.726040Z"
    },
    "tags": []
   },
   "outputs": [
    {
     "ename": "KeyError",
     "evalue": "\"['실적작업장_A12'] not in index\"",
     "output_type": "error",
     "traceback": [
      "\u001b[1;31m---------------------------------------------------------------------------\u001b[0m",
      "\u001b[1;31mKeyError\u001b[0m                                  Traceback (most recent call last)",
      "\u001b[1;32m<ipython-input-14-f9aa662f6726>\u001b[0m in \u001b[0;36m<module>\u001b[1;34m\u001b[0m\n\u001b[1;32m----> 1\u001b[1;33m \u001b[0mX_train\u001b[0m\u001b[1;33m,\u001b[0m \u001b[0mX_test\u001b[0m\u001b[1;33m,\u001b[0m \u001b[0my_train\u001b[0m\u001b[1;33m,\u001b[0m \u001b[0my_test\u001b[0m \u001b[1;33m=\u001b[0m \u001b[0mtrain_test_split\u001b[0m\u001b[1;33m(\u001b[0m\u001b[0mdf_encoded\u001b[0m\u001b[1;33m[\u001b[0m\u001b[0mfeature_columns\u001b[0m\u001b[1;33m]\u001b[0m\u001b[1;33m,\u001b[0m \u001b[0mdf_encoded\u001b[0m\u001b[1;33m[\u001b[0m\u001b[1;34m'target'\u001b[0m\u001b[1;33m]\u001b[0m\u001b[1;33m,\u001b[0m \u001b[0mtest_size\u001b[0m\u001b[1;33m=\u001b[0m\u001b[1;36m0.2\u001b[0m\u001b[1;33m,\u001b[0m \u001b[0mrandom_state\u001b[0m\u001b[1;33m=\u001b[0m\u001b[1;36m2021\u001b[0m\u001b[1;33m)\u001b[0m\u001b[1;33m\u001b[0m\u001b[1;33m\u001b[0m\u001b[0m\n\u001b[0m",
      "\u001b[1;32m~\\Anaconda3\\envs\\dlit\\lib\\site-packages\\pandas\\core\\frame.py\u001b[0m in \u001b[0;36m__getitem__\u001b[1;34m(self, key)\u001b[0m\n\u001b[0;32m   3028\u001b[0m             \u001b[1;32mif\u001b[0m \u001b[0mis_iterator\u001b[0m\u001b[1;33m(\u001b[0m\u001b[0mkey\u001b[0m\u001b[1;33m)\u001b[0m\u001b[1;33m:\u001b[0m\u001b[1;33m\u001b[0m\u001b[1;33m\u001b[0m\u001b[0m\n\u001b[0;32m   3029\u001b[0m                 \u001b[0mkey\u001b[0m \u001b[1;33m=\u001b[0m \u001b[0mlist\u001b[0m\u001b[1;33m(\u001b[0m\u001b[0mkey\u001b[0m\u001b[1;33m)\u001b[0m\u001b[1;33m\u001b[0m\u001b[1;33m\u001b[0m\u001b[0m\n\u001b[1;32m-> 3030\u001b[1;33m             \u001b[0mindexer\u001b[0m \u001b[1;33m=\u001b[0m \u001b[0mself\u001b[0m\u001b[1;33m.\u001b[0m\u001b[0mloc\u001b[0m\u001b[1;33m.\u001b[0m\u001b[0m_get_listlike_indexer\u001b[0m\u001b[1;33m(\u001b[0m\u001b[0mkey\u001b[0m\u001b[1;33m,\u001b[0m \u001b[0maxis\u001b[0m\u001b[1;33m=\u001b[0m\u001b[1;36m1\u001b[0m\u001b[1;33m,\u001b[0m \u001b[0mraise_missing\u001b[0m\u001b[1;33m=\u001b[0m\u001b[1;32mTrue\u001b[0m\u001b[1;33m)\u001b[0m\u001b[1;33m[\u001b[0m\u001b[1;36m1\u001b[0m\u001b[1;33m]\u001b[0m\u001b[1;33m\u001b[0m\u001b[1;33m\u001b[0m\u001b[0m\n\u001b[0m\u001b[0;32m   3031\u001b[0m \u001b[1;33m\u001b[0m\u001b[0m\n\u001b[0;32m   3032\u001b[0m         \u001b[1;31m# take() does not accept boolean indexers\u001b[0m\u001b[1;33m\u001b[0m\u001b[1;33m\u001b[0m\u001b[1;33m\u001b[0m\u001b[0m\n",
      "\u001b[1;32m~\\Anaconda3\\envs\\dlit\\lib\\site-packages\\pandas\\core\\indexing.py\u001b[0m in \u001b[0;36m_get_listlike_indexer\u001b[1;34m(self, key, axis, raise_missing)\u001b[0m\n\u001b[0;32m   1264\u001b[0m             \u001b[0mkeyarr\u001b[0m\u001b[1;33m,\u001b[0m \u001b[0mindexer\u001b[0m\u001b[1;33m,\u001b[0m \u001b[0mnew_indexer\u001b[0m \u001b[1;33m=\u001b[0m \u001b[0max\u001b[0m\u001b[1;33m.\u001b[0m\u001b[0m_reindex_non_unique\u001b[0m\u001b[1;33m(\u001b[0m\u001b[0mkeyarr\u001b[0m\u001b[1;33m)\u001b[0m\u001b[1;33m\u001b[0m\u001b[1;33m\u001b[0m\u001b[0m\n\u001b[0;32m   1265\u001b[0m \u001b[1;33m\u001b[0m\u001b[0m\n\u001b[1;32m-> 1266\u001b[1;33m         \u001b[0mself\u001b[0m\u001b[1;33m.\u001b[0m\u001b[0m_validate_read_indexer\u001b[0m\u001b[1;33m(\u001b[0m\u001b[0mkeyarr\u001b[0m\u001b[1;33m,\u001b[0m \u001b[0mindexer\u001b[0m\u001b[1;33m,\u001b[0m \u001b[0maxis\u001b[0m\u001b[1;33m,\u001b[0m \u001b[0mraise_missing\u001b[0m\u001b[1;33m=\u001b[0m\u001b[0mraise_missing\u001b[0m\u001b[1;33m)\u001b[0m\u001b[1;33m\u001b[0m\u001b[1;33m\u001b[0m\u001b[0m\n\u001b[0m\u001b[0;32m   1267\u001b[0m         \u001b[1;32mreturn\u001b[0m \u001b[0mkeyarr\u001b[0m\u001b[1;33m,\u001b[0m \u001b[0mindexer\u001b[0m\u001b[1;33m\u001b[0m\u001b[1;33m\u001b[0m\u001b[0m\n\u001b[0;32m   1268\u001b[0m \u001b[1;33m\u001b[0m\u001b[0m\n",
      "\u001b[1;32m~\\Anaconda3\\envs\\dlit\\lib\\site-packages\\pandas\\core\\indexing.py\u001b[0m in \u001b[0;36m_validate_read_indexer\u001b[1;34m(self, key, indexer, axis, raise_missing)\u001b[0m\n\u001b[0;32m   1314\u001b[0m             \u001b[1;32mif\u001b[0m \u001b[0mraise_missing\u001b[0m\u001b[1;33m:\u001b[0m\u001b[1;33m\u001b[0m\u001b[1;33m\u001b[0m\u001b[0m\n\u001b[0;32m   1315\u001b[0m                 \u001b[0mnot_found\u001b[0m \u001b[1;33m=\u001b[0m \u001b[0mlist\u001b[0m\u001b[1;33m(\u001b[0m\u001b[0mset\u001b[0m\u001b[1;33m(\u001b[0m\u001b[0mkey\u001b[0m\u001b[1;33m)\u001b[0m \u001b[1;33m-\u001b[0m \u001b[0mset\u001b[0m\u001b[1;33m(\u001b[0m\u001b[0max\u001b[0m\u001b[1;33m)\u001b[0m\u001b[1;33m)\u001b[0m\u001b[1;33m\u001b[0m\u001b[1;33m\u001b[0m\u001b[0m\n\u001b[1;32m-> 1316\u001b[1;33m                 \u001b[1;32mraise\u001b[0m \u001b[0mKeyError\u001b[0m\u001b[1;33m(\u001b[0m\u001b[1;34mf\"{not_found} not in index\"\u001b[0m\u001b[1;33m)\u001b[0m\u001b[1;33m\u001b[0m\u001b[1;33m\u001b[0m\u001b[0m\n\u001b[0m\u001b[0;32m   1317\u001b[0m \u001b[1;33m\u001b[0m\u001b[0m\n\u001b[0;32m   1318\u001b[0m             \u001b[0mnot_found\u001b[0m \u001b[1;33m=\u001b[0m \u001b[0mkey\u001b[0m\u001b[1;33m[\u001b[0m\u001b[0mmissing_mask\u001b[0m\u001b[1;33m]\u001b[0m\u001b[1;33m\u001b[0m\u001b[1;33m\u001b[0m\u001b[0m\n",
      "\u001b[1;31mKeyError\u001b[0m: \"['실적작업장_A12'] not in index\""
     ]
    }
   ],
   "source": [
    "X_train, X_test, y_train, y_test = train_test_split(df_encoded[feature_columns], df_encoded['target'], test_size=0.2, random_state=2021)"
   ]
  },
  {
   "cell_type": "code",
   "execution_count": null,
   "id": "internal-intelligence",
   "metadata": {
    "execution": {
     "iopub.status.busy": "2021-05-06T06:29:12.028267Z",
     "iopub.status.idle": "2021-05-06T06:29:12.028267Z",
     "shell.execute_reply": "2021-05-06T06:29:12.028267Z"
    },
    "tags": []
   },
   "outputs": [],
   "source": [
    "# Scaling\n",
    "std_scaler = preprocessing.StandardScaler()\n",
    "\n",
    "# Try using .loc[row_indexer,col_indexer] = value instead\n",
    "for feature in feature_columns:\n",
    "    std_scaler.fit(X_train[[feature]])\n",
    "    X_train_scaled = std_scaler.transform(X_train[[feature]])\n",
    "    X_train[[feature]] = X_train_scaled\n",
    "    \n",
    "    X_test_scaled = std_scaler.transform(X_test[[feature]])\n",
    "    X_test[[feature]] = X_test_scaled"
   ]
  },
  {
   "cell_type": "markdown",
   "id": "coordinated-hepatitis",
   "metadata": {},
   "source": [
    "### 선형회귀"
   ]
  },
  {
   "cell_type": "code",
   "execution_count": null,
   "id": "protecting-death",
   "metadata": {
    "execution": {
     "iopub.status.busy": "2021-05-06T06:29:12.029219Z",
     "iopub.status.idle": "2021-05-06T06:29:12.029219Z",
     "shell.execute_reply": "2021-05-06T06:29:12.029219Z"
    },
    "tags": []
   },
   "outputs": [],
   "source": [
    "lr_model = LinearRegression()\n",
    "lr_model.fit(X_train, y_train)\n",
    "pred_lr = lr_model.predict(X_test)\n",
    "mean_squared_error(y_test, pred_lr)"
   ]
  },
  {
   "cell_type": "code",
   "execution_count": null,
   "id": "express-cuisine",
   "metadata": {
    "execution": {
     "iopub.status.busy": "2021-05-06T06:29:12.030219Z",
     "iopub.status.idle": "2021-05-06T06:29:12.030219Z",
     "shell.execute_reply": "2021-05-06T06:29:12.030219Z"
    },
    "tags": []
   },
   "outputs": [],
   "source": [
    "ridge_model = Ridge(alpha=10.0, random_state=2021) # alpha : Regularization 정도\n",
    "ridge_model.fit(X_train, y_train)\n",
    "pred_ridge = ridge_model.predict(X_test)\n",
    "mean_squared_error(y_test, pred_ridge)"
   ]
  },
  {
   "cell_type": "code",
   "execution_count": null,
   "id": "general-ladder",
   "metadata": {
    "execution": {
     "iopub.status.busy": "2021-05-06T06:29:12.031219Z",
     "iopub.status.idle": "2021-05-06T06:29:12.031219Z",
     "shell.execute_reply": "2021-05-06T06:29:12.031219Z"
    },
    "tags": []
   },
   "outputs": [],
   "source": [
    "lasso_model = Lasso(alpha=10.0, random_state=2021)\n",
    "lasso_model.fit(X_train, y_train)\n",
    "pred_lasso = lasso_model.predict(X_test)\n",
    "mean_squared_error(y_test, pred_lasso)"
   ]
  },
  {
   "cell_type": "code",
   "execution_count": null,
   "id": "thick-brand",
   "metadata": {
    "execution": {
     "iopub.status.busy": "2021-05-06T06:29:12.032229Z",
     "iopub.status.idle": "2021-05-06T06:29:12.032229Z",
     "shell.execute_reply": "2021-05-06T06:29:12.032229Z"
    },
    "tags": []
   },
   "outputs": [],
   "source": [
    "enet_model = ElasticNet(alpha=1, l1_ratio=0.8)\n",
    "enet_model.fit(X_train, y_train)\n",
    "pred_enet = enet_model.predict(X_test)\n",
    "mean_squared_error(y_test, pred_enet)"
   ]
  },
  {
   "cell_type": "markdown",
   "id": "immediate-facial",
   "metadata": {},
   "source": [
    "### 다항회귀"
   ]
  },
  {
   "cell_type": "code",
   "execution_count": null,
   "id": "threatened-saying",
   "metadata": {
    "execution": {
     "iopub.status.busy": "2021-05-06T06:29:12.033235Z",
     "iopub.status.idle": "2021-05-06T06:29:12.033235Z",
     "shell.execute_reply": "2021-05-06T06:29:12.033235Z"
    },
    "tags": []
   },
   "outputs": [],
   "source": [
    "poly_model = make_pipeline(preprocessing.PolynomialFeatures(2), Ridge())\n",
    "#poly_model = make_pipeline(preprocessing.PolynomialFeatures(2), Lasso())\n",
    "poly_model.fit(X_train, y_train)\n",
    "pred_poly_model = poly_model.predict(X_test)\n",
    "mean_squared_error(y_test, pred_poly_model)"
   ]
  },
  {
   "cell_type": "markdown",
   "id": "august-martin",
   "metadata": {},
   "source": [
    "### SVR"
   ]
  },
  {
   "cell_type": "code",
   "execution_count": null,
   "id": "mechanical-broad",
   "metadata": {
    "execution": {
     "iopub.status.busy": "2021-05-06T06:29:12.034235Z",
     "iopub.status.idle": "2021-05-06T06:29:12.034235Z",
     "shell.execute_reply": "2021-05-06T06:29:12.034235Z"
    },
    "tags": []
   },
   "outputs": [],
   "source": [
    "svr_rbf = SVR(kernel='rbf', C=100, gamma=0.1, epsilon=0.1)\n",
    "svr_rbf.fit(X_train, y_train)\n",
    "pred_svr_rbf = svr_rbf.predict(X_test)\n",
    "mean_squared_error(y_test, pred_svr_rbf)"
   ]
  },
  {
   "cell_type": "code",
   "execution_count": null,
   "id": "tested-beginning",
   "metadata": {
    "execution": {
     "iopub.status.busy": "2021-05-06T06:29:12.034235Z",
     "iopub.status.idle": "2021-05-06T06:29:12.035235Z",
     "shell.execute_reply": "2021-05-06T06:29:12.034235Z"
    },
    "tags": []
   },
   "outputs": [],
   "source": [
    "svr_lin = SVR(kernel='linear', C=100, gamma='auto')\n",
    "svr_lin.fit(X_train, y_train)\n",
    "pred_svr_lin = svr_lin.predict(X_test)\n",
    "mean_squared_error(y_test, pred_svr_lin)"
   ]
  },
  {
   "cell_type": "code",
   "execution_count": null,
   "id": "prescription-maintenance",
   "metadata": {
    "execution": {
     "iopub.status.busy": "2021-05-06T06:29:12.035235Z",
     "iopub.status.idle": "2021-05-06T06:29:12.035235Z",
     "shell.execute_reply": "2021-05-06T06:29:12.035235Z"
    },
    "tags": []
   },
   "outputs": [],
   "source": [
    "svr_poly = SVR(kernel='poly', C=100, gamma='auto', degree=2, epsilon=0.1, coef0=1)\n",
    "svr_poly.fit(X_train, y_train)\n",
    "pred_svr_poly = svr_poly.predict(X_test)\n",
    "mean_squared_error(y_test, pred_svr_poly)"
   ]
  },
  {
   "cell_type": "markdown",
   "id": "aggregate-quarter",
   "metadata": {},
   "source": [
    "## 보완점\n",
    "- 전처리 과정에서 많은 컬럼들이 제거되어 생산실적 예측에 필요한 feature들 개수가 현저히 적어짐\n",
    "    - 다른 테이블과의 join을 통해 생산실적 예측 학습에 쓰일만한 feature에 대한 추가적인 분석이 필요\n",
    "- 품목코드의 경우 One-Hot Encoding을 하기엔 수가 많고 Label Encoding을 하기엔 회귀 모델에 영향을 줄 것 같아 제거\n",
    "    - 품목별로 충분한 양의 row개수가 확보된다면 전체 라인에서 생산하는 실적량 예측이 아닌 특정 품목에 대한 예측을 수행하는 것이 오차를 줄일 수 있는 방법이라 생각됨"
   ]
  },
  {
   "cell_type": "code",
   "execution_count": null,
   "id": "canadian-reliance",
   "metadata": {
    "execution": {
     "iopub.status.busy": "2021-05-06T06:29:12.036407Z",
     "iopub.status.idle": "2021-05-06T06:29:12.036407Z",
     "shell.execute_reply": "2021-05-06T06:29:12.036407Z"
    },
    "tags": []
   },
   "outputs": [],
   "source": [
    "# 품목별 row 개수\n",
    "for code in df['품목코드'].unique():\n",
    "    print(code, \": \", len(df.query('품목코드==\"{0}\"'.format(code))))"
   ]
  }
 ],
 "metadata": {
  "kernelspec": {
   "display_name": "Python 3",
   "language": "python",
   "name": "python3"
  },
  "language_info": {
   "codemirror_mode": {
    "name": "ipython",
    "version": 3
   },
   "file_extension": ".py",
   "mimetype": "text/x-python",
   "name": "python",
   "nbconvert_exporter": "python",
   "pygments_lexer": "ipython3",
   "version": "3.7.9"
  }
 },
 "nbformat": 4,
 "nbformat_minor": 5
}
