{
 "cells": [
  {
   "cell_type": "markdown",
   "id": "decreased-cabinet",
   "metadata": {},
   "source": [
    "### CNN 배경\n",
    "- 기존 flatten화시켜 Input 해주었던 방식은 이미지 픽셀 값이 서로 독립적이지 않기 때문에 Region Feature를 학습하지 못 함\n",
    "- Convolution Layer의 Receptive Field를 활용하여 Region Feature의 Weight 선형결합으로 학습할 수 있도록 함"
   ]
  },
  {
   "cell_type": "code",
   "execution_count": 1,
   "id": "changing-locator",
   "metadata": {
    "execution": {
     "iopub.execute_input": "2021-01-28T04:26:35.763429Z",
     "iopub.status.busy": "2021-01-28T04:26:35.763429Z",
     "iopub.status.idle": "2021-01-28T04:26:36.610760Z",
     "shell.execute_reply": "2021-01-28T04:26:36.610760Z",
     "shell.execute_reply.started": "2021-01-28T04:26:35.763429Z"
    }
   },
   "outputs": [],
   "source": [
    "import numpy as np\n",
    "import matplotlib.pyplot as plt\n",
    "import random\n",
    "\n",
    "import torch\n",
    "import torch.nn as nn\n",
    "import torch.nn.functional as F\n",
    "from torchvision import transforms, datasets"
   ]
  },
  {
   "cell_type": "code",
   "execution_count": 2,
   "id": "altered-viking",
   "metadata": {
    "execution": {
     "iopub.execute_input": "2021-01-28T04:26:37.218875Z",
     "iopub.status.busy": "2021-01-28T04:26:37.218875Z",
     "iopub.status.idle": "2021-01-28T04:26:37.223498Z",
     "shell.execute_reply": "2021-01-28T04:26:37.222353Z",
     "shell.execute_reply.started": "2021-01-28T04:26:37.218875Z"
    }
   },
   "outputs": [],
   "source": [
    "if torch.cuda.is_available() :\n",
    "    DEVICE = torch.device('cuda')\n",
    "else :\n",
    "    DEVICE = torch.device('cpu')\n",
    "    \n",
    "BATCH_SIZE = 32\n",
    "EPOCHS = 10"
   ]
  },
  {
   "cell_type": "code",
   "execution_count": 3,
   "id": "blind-margin",
   "metadata": {
    "execution": {
     "iopub.execute_input": "2021-01-28T04:26:38.025644Z",
     "iopub.status.busy": "2021-01-28T04:26:38.025644Z",
     "iopub.status.idle": "2021-01-28T04:26:39.093500Z",
     "shell.execute_reply": "2021-01-28T04:26:39.092975Z",
     "shell.execute_reply.started": "2021-01-28T04:26:38.025644Z"
    }
   },
   "outputs": [
    {
     "name": "stdout",
     "output_type": "stream",
     "text": [
      "Files already downloaded and verified\n"
     ]
    }
   ],
   "source": [
    "train_dataset = datasets.CIFAR10(root = '../data/FashionMNIST',\n",
    "                                      train = True,\n",
    "                                      download = True,\n",
    "                                      transform = transforms.Compose([\n",
    "                                          transforms.RandomHorizontalFlip(),\n",
    "                                          transforms.ToTensor(),\n",
    "                                          transforms.Normalize((0.5,0.5,0.5),(0.5,0.5,0.5)) # normalize std for r,g,b\n",
    "                                      ]))\n",
    "test_dataset = datasets.CIFAR10(root = '../data/FashionMNIST',\n",
    "                                      train = False,\n",
    "                                      transform = transforms.Compose([\n",
    "                                          transforms.RandomHorizontalFlip(),\n",
    "                                          transforms.ToTensor(),\n",
    "                                          transforms.Normalize((0.5,0.5,0.5),(0.5,0.5,0.5)) # normalize std for r,g,b\n",
    "                                      ]))\n",
    "\n",
    "train_loader = torch.utils.data.DataLoader(dataset = train_dataset,\n",
    "                                           batch_size = BATCH_SIZE,\n",
    "                                           shuffle = True)\n",
    "test_loader = torch.utils.data.DataLoader(dataset = test_dataset,\n",
    "                                          batch_size = BATCH_SIZE,\n",
    "                                          shuffle = False)"
   ]
  },
  {
   "cell_type": "code",
   "execution_count": 4,
   "id": "independent-broad",
   "metadata": {
    "execution": {
     "iopub.execute_input": "2021-01-28T04:26:39.434218Z",
     "iopub.status.busy": "2021-01-28T04:26:39.434218Z",
     "iopub.status.idle": "2021-01-28T04:26:39.460878Z",
     "shell.execute_reply": "2021-01-28T04:26:39.460500Z",
     "shell.execute_reply.started": "2021-01-28T04:26:39.434218Z"
    }
   },
   "outputs": [
    {
     "name": "stdout",
     "output_type": "stream",
     "text": [
      "X_train :  torch.Size([32, 3, 32, 32])   torch.FloatTensor\n",
      "y_train :  torch.Size([32])   torch.LongTensor\n"
     ]
    }
   ],
   "source": [
    "for (X_train, y_train) in train_loader: # X ~ matrix, y~vector\n",
    "    print('X_train : ', X_train.size(),' ', X_train.type() )\n",
    "    print('y_train : ', y_train.size(),' ', y_train.type() )\n",
    "    break"
   ]
  },
  {
   "cell_type": "code",
   "execution_count": 5,
   "id": "available-coffee",
   "metadata": {
    "execution": {
     "iopub.execute_input": "2021-01-28T04:26:40.738173Z",
     "iopub.status.busy": "2021-01-28T04:26:40.738173Z",
     "iopub.status.idle": "2021-01-28T04:26:40.989795Z",
     "shell.execute_reply": "2021-01-28T04:26:40.988839Z",
     "shell.execute_reply.started": "2021-01-28T04:26:40.738173Z"
    }
   },
   "outputs": [
    {
     "name": "stderr",
     "output_type": "stream",
     "text": [
      "Clipping input data to the valid range for imshow with RGB data ([0..1] for floats or [0..255] for integers).\n",
      "Clipping input data to the valid range for imshow with RGB data ([0..1] for floats or [0..255] for integers).\n",
      "Clipping input data to the valid range for imshow with RGB data ([0..1] for floats or [0..255] for integers).\n",
      "Clipping input data to the valid range for imshow with RGB data ([0..1] for floats or [0..255] for integers).\n",
      "Clipping input data to the valid range for imshow with RGB data ([0..1] for floats or [0..255] for integers).\n",
      "Clipping input data to the valid range for imshow with RGB data ([0..1] for floats or [0..255] for integers).\n",
      "Clipping input data to the valid range for imshow with RGB data ([0..1] for floats or [0..255] for integers).\n",
      "Clipping input data to the valid range for imshow with RGB data ([0..1] for floats or [0..255] for integers).\n",
      "Clipping input data to the valid range for imshow with RGB data ([0..1] for floats or [0..255] for integers).\n",
      "Clipping input data to the valid range for imshow with RGB data ([0..1] for floats or [0..255] for integers).\n"
     ]
    },
    {
     "data": {
      "image/png": "[encoded data removed]",
      "text/plain": [
       "<Figure size 720x72 with 10 Axes>"
      ]
     },
     "metadata": {
      "needs_background": "light"
     },
     "output_type": "display_data"
    }
   ],
   "source": [
    "# dead kernel 잡기 ~ 라이브러리 충돌 방지\n",
    "import os\n",
    "os.environ['KMP_DUPLICATE_LIB_OK']='True'\n",
    "\n",
    "pltsize = 1\n",
    "plt.figure(figsize=(10*pltsize, pltsize))\n",
    "for i in range(10):\n",
    "    plt.subplot(1,10, i+1)\n",
    "    plt.axis('off')\n",
    "    plt.imshow(np.transpose(X_train[i],(1,2,0)))\n",
    "    plt.title('class: '+str(y_train[i].item()))"
   ]
  },
  {
   "cell_type": "code",
   "execution_count": 6,
   "id": "dress-reach",
   "metadata": {
    "execution": {
     "iopub.execute_input": "2021-01-28T04:26:43.880199Z",
     "iopub.status.busy": "2021-01-28T04:26:43.880199Z",
     "iopub.status.idle": "2021-01-28T04:26:43.890698Z",
     "shell.execute_reply": "2021-01-28T04:26:43.890197Z",
     "shell.execute_reply.started": "2021-01-28T04:26:43.880199Z"
    }
   },
   "outputs": [],
   "source": [
    "class cnn(nn.Module):\n",
    "    def __init__(self):\n",
    "        super(cnn, self).__init__()\n",
    "        self.conv1 = nn.Conv2d(in_channels = 3,\n",
    "                               out_channels = 8, # filter 개수\n",
    "                               kernel_size = 3,\n",
    "                               padding = 1) # zero-padding\n",
    "        self.conv2 = nn.Conv2d(in_channels = 8, out_channels = 16, \n",
    "                               kernel_size = 3, padding = 1)\n",
    "        self.pool = nn.MaxPool2d(kernel_size=2, stride=2)\n",
    "        self.fc1 = nn.Linear(8*8*16,64)\n",
    "        self.fc2 = nn.Linear(64,32)\n",
    "        self.fc3 = nn.Linear(32,10)\n",
    "    def forward(self, x):\n",
    "        x = self.conv1(x)\n",
    "        x = F.relu(x)\n",
    "        x = self.pool(x)\n",
    "        x = self.conv2(x)\n",
    "        x = F.relu(x)\n",
    "        x = self.pool(x)\n",
    "        \n",
    "        x = x.view(-1, 8*8*16)\n",
    "        x = self.fc1(x)\n",
    "        x = F.relu(x)\n",
    "        x = self.fc2(x)\n",
    "        x = F.relu(x)\n",
    "        x = self.fc3(x)\n",
    "        x = F.log_softmax(x)\n",
    "        \n",
    "        return x"
   ]
  },
  {
   "cell_type": "code",
   "execution_count": 7,
   "id": "based-tribune",
   "metadata": {
    "execution": {
     "iopub.execute_input": "2021-01-28T04:26:47.217211Z",
     "iopub.status.busy": "2021-01-28T04:26:47.217211Z",
     "iopub.status.idle": "2021-01-28T04:26:47.233813Z",
     "shell.execute_reply": "2021-01-28T04:26:47.233813Z",
     "shell.execute_reply.started": "2021-01-28T04:26:47.217211Z"
    }
   },
   "outputs": [],
   "source": [
    "class BasicBlock(nn.Module):\n",
    "    def __init__(self, in_planes, planes, stride=1):\n",
    "        super(BasicBlock, self).__init__()\n",
    "        self.conv1 = nn.Conv2d(in_planes, planes, kernel_size=3,\n",
    "                               stride= stride, padding=1, bias=False)\n",
    "        self.bn1 = nn.BatchNorm2d(planes)\n",
    "        self.conv2 = nn.Conv2d(planes, planes, kernel_size=3,\n",
    "                               stride= 1, padding=1, bias=False)\n",
    "        self.bn2 = nn.BatchNorm2d(planes)\n",
    "\n",
    "        self.shortcut = nn.Sequential()\n",
    "        if stride != 1 or in_planes != planes :\n",
    "            self.shortcut = nn.Sequential(\n",
    "                                nn.Conv2d(in_planes, planes, kernel_size=1,\n",
    "                                          stride = stride, bias = False), # 이 예제에서는 bias 사용 안 하지만 후에 사용할 수도 있을 듯\n",
    "                                nn.BatchNorm2d(planes)) \n",
    "    def forward(self, x):\n",
    "        out = F.relu(self.bn1(self.conv1(x)))\n",
    "        out = self.bn2(self.conv2(out))\n",
    "        out += self.shortcut(x)\n",
    "        out = F.relu(out)\n",
    "        return out\n",
    "    \n",
    "class ResNet(nn.Module):\n",
    "    def __init__(self, num_classes = 10):\n",
    "        super(ResNet, self).__init__()\n",
    "        self.in_planes = 16\n",
    "        self.conv1 = nn.Conv2d(3, 16, kernel_size=3, stride=1, padding=1, bias=False)\n",
    "        self.bn1 = nn.BatchNorm2d(16)\n",
    "        self.layer1 = self._make_layer(16,2,stride=1)\n",
    "        self.layer2 = self._make_layer(32,2,stride=2)\n",
    "        self.layer3 = self._make_layer(64,2,stride=2)\n",
    "        self.linear = nn.Linear(64, num_classes)\n",
    "    \n",
    "    def _make_layer(self, planes, num_blocks, stride):\n",
    "        strides = [stride] + [1] * (num_blocks -1) # [2] + [1]*2 == [2, 1, 1] // [1]이 뒤에 곱해진만큼 붙음\n",
    "        #print(strides)\n",
    "        layers = []\n",
    "        for stride in strides:\n",
    "            layers.append(BasicBlock(self.in_planes, planes, stride))\n",
    "            self.in_planes = planes\n",
    "        return nn.Sequential(*layers) # list 요소가 하나씩 나옴, positional arguments / https://mingrammer.com/understanding-the-asterisk-of-python/\n",
    "    \n",
    "    def forward(self, x):\n",
    "        out = F.relu(self.bn1(self.conv1(x)))\n",
    "        out = self.layer1(out)\n",
    "        out = self.layer2(out)\n",
    "        out = self.layer3(out)\n",
    "        out = F.avg_pool2d(out, 8)\n",
    "        out = out.view(out.size(0), -1)\n",
    "        out = self.linear(out)\n",
    "        return out"
   ]
  },
  {
   "cell_type": "code",
   "execution_count": 8,
   "id": "prepared-indication",
   "metadata": {
    "execution": {
     "iopub.execute_input": "2021-01-28T04:26:48.425754Z",
     "iopub.status.busy": "2021-01-28T04:26:48.425754Z",
     "iopub.status.idle": "2021-01-28T04:26:48.442632Z",
     "shell.execute_reply": "2021-01-28T04:26:48.442632Z",
     "shell.execute_reply.started": "2021-01-28T04:26:48.425754Z"
    }
   },
   "outputs": [
    {
     "name": "stdout",
     "output_type": "stream",
     "text": [
      "[1, 1]\n",
      "[2, 1]\n",
      "[2, 1]\n",
      "ResNet(\n",
      "  (conv1): Conv2d(3, 16, kernel_size=(3, 3), stride=(1, 1), padding=(1, 1), bias=False)\n",
      "  (bn1): BatchNorm2d(16, eps=1e-05, momentum=0.1, affine=True, track_running_stats=True)\n",
      "  (layer1): Sequential(\n",
      "    (0): BasicBlock(\n",
      "      (conv1): Conv2d(16, 16, kernel_size=(3, 3), stride=(1, 1), padding=(1, 1), bias=False)\n",
      "      (bn1): BatchNorm2d(16, eps=1e-05, momentum=0.1, affine=True, track_running_stats=True)\n",
      "      (conv2): Conv2d(16, 16, kernel_size=(3, 3), stride=(1, 1), padding=(1, 1), bias=False)\n",
      "      (bn2): BatchNorm2d(16, eps=1e-05, momentum=0.1, affine=True, track_running_stats=True)\n",
      "      (shortcut): Sequential()\n",
      "    )\n",
      "    (1): BasicBlock(\n",
      "      (conv1): Conv2d(16, 16, kernel_size=(3, 3), stride=(1, 1), padding=(1, 1), bias=False)\n",
      "      (bn1): BatchNorm2d(16, eps=1e-05, momentum=0.1, affine=True, track_running_stats=True)\n",
      "      (conv2): Conv2d(16, 16, kernel_size=(3, 3), stride=(1, 1), padding=(1, 1), bias=False)\n",
      "      (bn2): BatchNorm2d(16, eps=1e-05, momentum=0.1, affine=True, track_running_stats=True)\n",
      "      (shortcut): Sequential()\n",
      "    )\n",
      "  )\n",
      "  (layer2): Sequential(\n",
      "    (0): BasicBlock(\n",
      "      (conv1): Conv2d(16, 32, kernel_size=(3, 3), stride=(2, 2), padding=(1, 1), bias=False)\n",
      "      (bn1): BatchNorm2d(32, eps=1e-05, momentum=0.1, affine=True, track_running_stats=True)\n",
      "      (conv2): Conv2d(32, 32, kernel_size=(3, 3), stride=(1, 1), padding=(1, 1), bias=False)\n",
      "      (bn2): BatchNorm2d(32, eps=1e-05, momentum=0.1, affine=True, track_running_stats=True)\n",
      "      (shortcut): Sequential(\n",
      "        (0): Conv2d(16, 32, kernel_size=(1, 1), stride=(2, 2), bias=False)\n",
      "        (1): BatchNorm2d(32, eps=1e-05, momentum=0.1, affine=True, track_running_stats=True)\n",
      "      )\n",
      "    )\n",
      "    (1): BasicBlock(\n",
      "      (conv1): Conv2d(32, 32, kernel_size=(3, 3), stride=(1, 1), padding=(1, 1), bias=False)\n",
      "      (bn1): BatchNorm2d(32, eps=1e-05, momentum=0.1, affine=True, track_running_stats=True)\n",
      "      (conv2): Conv2d(32, 32, kernel_size=(3, 3), stride=(1, 1), padding=(1, 1), bias=False)\n",
      "      (bn2): BatchNorm2d(32, eps=1e-05, momentum=0.1, affine=True, track_running_stats=True)\n",
      "      (shortcut): Sequential()\n",
      "    )\n",
      "  )\n",
      "  (layer3): Sequential(\n",
      "    (0): BasicBlock(\n",
      "      (conv1): Conv2d(32, 64, kernel_size=(3, 3), stride=(2, 2), padding=(1, 1), bias=False)\n",
      "      (bn1): BatchNorm2d(64, eps=1e-05, momentum=0.1, affine=True, track_running_stats=True)\n",
      "      (conv2): Conv2d(64, 64, kernel_size=(3, 3), stride=(1, 1), padding=(1, 1), bias=False)\n",
      "      (bn2): BatchNorm2d(64, eps=1e-05, momentum=0.1, affine=True, track_running_stats=True)\n",
      "      (shortcut): Sequential(\n",
      "        (0): Conv2d(32, 64, kernel_size=(1, 1), stride=(2, 2), bias=False)\n",
      "        (1): BatchNorm2d(64, eps=1e-05, momentum=0.1, affine=True, track_running_stats=True)\n",
      "      )\n",
      "    )\n",
      "    (1): BasicBlock(\n",
      "      (conv1): Conv2d(64, 64, kernel_size=(3, 3), stride=(1, 1), padding=(1, 1), bias=False)\n",
      "      (bn1): BatchNorm2d(64, eps=1e-05, momentum=0.1, affine=True, track_running_stats=True)\n",
      "      (conv2): Conv2d(64, 64, kernel_size=(3, 3), stride=(1, 1), padding=(1, 1), bias=False)\n",
      "      (bn2): BatchNorm2d(64, eps=1e-05, momentum=0.1, affine=True, track_running_stats=True)\n",
      "      (shortcut): Sequential()\n",
      "    )\n",
      "  )\n",
      "  (linear): Linear(in_features=64, out_features=10, bias=True)\n",
      ")\n"
     ]
    }
   ],
   "source": [
    "#model = cnn().to(DEVICE)\n",
    "model = ResNet().to(DEVICE)\n",
    "optimizer = torch.optim.Adam(model.parameters(), lr=0.001)\n",
    "criterion = nn.CrossEntropyLoss()\n",
    "\n",
    "print(model)"
   ]
  },
  {
   "cell_type": "code",
   "execution_count": 9,
   "id": "fitted-worcester",
   "metadata": {
    "execution": {
     "iopub.execute_input": "2021-01-28T04:26:50.656667Z",
     "iopub.status.busy": "2021-01-28T04:26:50.655663Z",
     "iopub.status.idle": "2021-01-28T04:26:50.668097Z",
     "shell.execute_reply": "2021-01-28T04:26:50.667664Z",
     "shell.execute_reply.started": "2021-01-28T04:26:50.656667Z"
    }
   },
   "outputs": [],
   "source": [
    "def train(model, train_loader, optimizer, log_interval):\n",
    "    model.train()\n",
    "    for batch_idx, (image, label) in enumerate(train_loader):\n",
    "        image = image.to(DEVICE)\n",
    "        label = label.to(DEVICE)\n",
    "        optimizer.zero_grad()\n",
    "        output = model(image)\n",
    "        loss = criterion(output, label)\n",
    "        loss.backward()\n",
    "        optimizer.step()\n",
    "\n",
    "        if batch_idx % log_interval == 0:\n",
    "            print(\"Train Epoch: {} [{}/{} ({:.0f}%)]\\tTrain Loss: {:.6f}\".format(\n",
    "                epoch, batch_idx * len(image), \n",
    "                len(train_loader.dataset), 100. * batch_idx / len(train_loader), \n",
    "                loss.item()))\n",
    "\n",
    "def evaluate(model, test_loader):\n",
    "    model.eval()\n",
    "    test_loss = 0\n",
    "    correct = 0\n",
    "\n",
    "    with torch.no_grad():\n",
    "        for image, label in test_loader:\n",
    "            image = image.to(DEVICE)\n",
    "            label = label.to(DEVICE)\n",
    "            output = model(image)\n",
    "            test_loss += criterion(output, label).item()\n",
    "            prediction = output.max(1, keepdim = True)[1]\n",
    "            correct += prediction.eq(label.view_as(prediction)).sum().item()\n",
    "    \n",
    "    test_loss /= len(test_loader.dataset)\n",
    "    test_accuracy = 100. * correct / len(test_loader.dataset)\n",
    "    return test_loss, test_accuracy"
   ]
  },
  {
   "cell_type": "code",
   "execution_count": null,
   "id": "greatest-scott",
   "metadata": {
    "execution": {
     "iopub.execute_input": "2021-01-28T04:19:37.326369Z",
     "iopub.status.busy": "2021-01-28T04:19:37.326369Z"
    }
   },
   "outputs": [
    {
     "name": "stdout",
     "output_type": "stream",
     "text": [
      "Train Epoch: 1 [0/50000 (0%)]\tTrain Loss: 2.415197\n",
      "Train Epoch: 1 [6400/50000 (13%)]\tTrain Loss: 1.479891\n",
      "Train Epoch: 1 [12800/50000 (26%)]\tTrain Loss: 1.398278\n",
      "Train Epoch: 1 [19200/50000 (38%)]\tTrain Loss: 1.302660\n",
      "Train Epoch: 1 [25600/50000 (51%)]\tTrain Loss: 1.302281\n",
      "Train Epoch: 1 [32000/50000 (64%)]\tTrain Loss: 0.993781\n",
      "Train Epoch: 1 [38400/50000 (77%)]\tTrain Loss: 0.848535\n",
      "Train Epoch: 1 [44800/50000 (90%)]\tTrain Loss: 0.867174\n",
      "\n",
      "[EPOCH: 1], \tTest Loss: 0.0316, \tTest Accuracy: 64.27 % \n",
      "\n",
      "Train Epoch: 2 [0/50000 (0%)]\tTrain Loss: 0.998176\n",
      "Train Epoch: 2 [6400/50000 (13%)]\tTrain Loss: 0.862891\n",
      "Train Epoch: 2 [12800/50000 (26%)]\tTrain Loss: 0.976455\n",
      "Train Epoch: 2 [19200/50000 (38%)]\tTrain Loss: 0.635388\n",
      "Train Epoch: 2 [25600/50000 (51%)]\tTrain Loss: 1.135755\n",
      "Train Epoch: 2 [32000/50000 (64%)]\tTrain Loss: 0.926521\n",
      "Train Epoch: 2 [38400/50000 (77%)]\tTrain Loss: 1.082609\n",
      "Train Epoch: 2 [44800/50000 (90%)]\tTrain Loss: 0.752448\n",
      "\n",
      "[EPOCH: 2], \tTest Loss: 0.0280, \tTest Accuracy: 68.12 % \n",
      "\n",
      "Train Epoch: 3 [0/50000 (0%)]\tTrain Loss: 0.516788\n"
     ]
    }
   ],
   "source": [
    "for epoch in range(1, EPOCHS + 1):\n",
    "    train(model, train_loader, optimizer, log_interval = 200)\n",
    "    test_loss, test_accuracy = evaluate(model, test_loader)\n",
    "    print(\"\\n[EPOCH: {}], \\tTest Loss: {:.4f}, \\tTest Accuracy: {:.2f} % \\n\".format(\n",
    "        epoch, test_loss, test_accuracy))"
   ]
  }
 ],
 "metadata": {
  "kernelspec": {
   "display_name": "Python 3",
   "language": "python",
   "name": "python3"
  },
  "language_info": {
   "codemirror_mode": {
    "name": "ipython",
    "version": 3
   },
   "file_extension": ".py",
   "mimetype": "text/x-python",
   "name": "python",
   "nbconvert_exporter": "python",
   "pygments_lexer": "ipython3",
   "version": "3.7.9"
  }
 },
 "nbformat": 4,
 "nbformat_minor": 5
}
