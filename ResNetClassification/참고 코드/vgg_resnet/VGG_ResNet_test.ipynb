{
 "cells": [
  {
   "cell_type": "markdown",
   "id": "above-milan",
   "metadata": {},
   "source": [
    "## 전이학습 참고\n",
    "- 분류기 끝 부분만 수정\n",
    "- 분류기 자체를 새로 ~ '동결'\n",
    "- high level에서 특징추출 layer를 수정\n",
    "- 관련 논문 찾아봐서 참고"
   ]
  },
  {
   "cell_type": "markdown",
   "id": "underlying-night",
   "metadata": {},
   "source": [
    "### 사용 데이터 셋\n",
    "- Kaggle Image Classification data set : https://www.kaggle.com/puneet6060/intel-image-classification\n",
    "- 150x150, 6 classes (buildings, forest, glacier, mountain, sea, street)\n",
    "- seg_train / seg_test : 학습셋, 테스트셋 // seg_pred : 라벨링 안 되어있는 이미지 모음 ~ 모델 최종 예측값 확인"
   ]
  },
  {
   "cell_type": "markdown",
   "id": "stopped-nylon",
   "metadata": {},
   "source": [
    "## VGGNet\n",
    "- keras api\n",
    "- kernel 3x3 고정\n",
    "- layer 깊이에 따른 모델 성능 확인 등등 조사 내용 추가"
   ]
  },
  {
   "cell_type": "code",
   "execution_count": 11,
   "id": "mature-needle",
   "metadata": {
    "execution": {
     "iopub.execute_input": "2021-01-22T02:10:45.846998Z",
     "iopub.status.busy": "2021-01-22T02:10:45.846998Z",
     "iopub.status.idle": "2021-01-22T02:10:45.870722Z",
     "shell.execute_reply": "2021-01-22T02:10:45.870722Z",
     "shell.execute_reply.started": "2021-01-22T02:10:45.846998Z"
    }
   },
   "outputs": [],
   "source": [
    "# 기존 VGG16 비교 - keras 책 p.202\n",
    "import tensorflow as tf\n",
    "from tensorflow.keras.applications import VGG16\n",
    "# 함수형 api로 재구현\n",
    "from tensorflow.keras import layers\n",
    "from tensorflow.keras import Input\n",
    "from tensorflow.keras.models import Model\n",
    "# 사용 데이터셋 읽기\n",
    "from tensorflow.keras.preprocessing.image import ImageDataGenerator\n",
    "from tensorflow.keras import callbacks"
   ]
  },
  {
   "cell_type": "code",
   "execution_count": 2,
   "id": "extraordinary-arlington",
   "metadata": {
    "collapsed": true,
    "execution": {
     "iopub.execute_input": "2021-01-21T05:40:21.216157Z",
     "iopub.status.busy": "2021-01-21T05:40:21.216157Z",
     "iopub.status.idle": "2021-01-21T05:40:23.316240Z",
     "shell.execute_reply": "2021-01-21T05:40:23.315739Z",
     "shell.execute_reply.started": "2021-01-21T05:40:21.216157Z"
    },
    "jupyter": {
     "outputs_hidden": true
    }
   },
   "outputs": [
    {
     "name": "stdout",
     "output_type": "stream",
     "text": [
      "Model: \"vgg16\"\n",
      "_________________________________________________________________\n",
      "Layer (type)                 Output Shape              Param #   \n",
      "=================================================================\n",
      "input_1 (InputLayer)         [(None, 224, 224, 3)]     0         \n",
      "_________________________________________________________________\n",
      "block1_conv1 (Conv2D)        (None, 224, 224, 64)      1792      \n",
      "_________________________________________________________________\n",
      "block1_conv2 (Conv2D)        (None, 224, 224, 64)      36928     \n",
      "_________________________________________________________________\n",
      "block1_pool (MaxPooling2D)   (None, 112, 112, 64)      0         \n",
      "_________________________________________________________________\n",
      "block2_conv1 (Conv2D)        (None, 112, 112, 128)     73856     \n",
      "_________________________________________________________________\n",
      "block2_conv2 (Conv2D)        (None, 112, 112, 128)     147584    \n",
      "_________________________________________________________________\n",
      "block2_pool (MaxPooling2D)   (None, 56, 56, 128)       0         \n",
      "_________________________________________________________________\n",
      "block3_conv1 (Conv2D)        (None, 56, 56, 256)       295168    \n",
      "_________________________________________________________________\n",
      "block3_conv2 (Conv2D)        (None, 56, 56, 256)       590080    \n",
      "_________________________________________________________________\n",
      "block3_conv3 (Conv2D)        (None, 56, 56, 256)       590080    \n",
      "_________________________________________________________________\n",
      "block3_pool (MaxPooling2D)   (None, 28, 28, 256)       0         \n",
      "_________________________________________________________________\n",
      "block4_conv1 (Conv2D)        (None, 28, 28, 512)       1180160   \n",
      "_________________________________________________________________\n",
      "block4_conv2 (Conv2D)        (None, 28, 28, 512)       2359808   \n",
      "_________________________________________________________________\n",
      "block4_conv3 (Conv2D)        (None, 28, 28, 512)       2359808   \n",
      "_________________________________________________________________\n",
      "block4_pool (MaxPooling2D)   (None, 14, 14, 512)       0         \n",
      "_________________________________________________________________\n",
      "block5_conv1 (Conv2D)        (None, 14, 14, 512)       2359808   \n",
      "_________________________________________________________________\n",
      "block5_conv2 (Conv2D)        (None, 14, 14, 512)       2359808   \n",
      "_________________________________________________________________\n",
      "block5_conv3 (Conv2D)        (None, 14, 14, 512)       2359808   \n",
      "_________________________________________________________________\n",
      "block5_pool (MaxPooling2D)   (None, 7, 7, 512)         0         \n",
      "_________________________________________________________________\n",
      "flatten (Flatten)            (None, 25088)             0         \n",
      "_________________________________________________________________\n",
      "fc1 (Dense)                  (None, 4096)              102764544 \n",
      "_________________________________________________________________\n",
      "fc2 (Dense)                  (None, 4096)              16781312  \n",
      "_________________________________________________________________\n",
      "predictions (Dense)          (None, 1000)              4097000   \n",
      "=================================================================\n",
      "Total params: 138,357,544\n",
      "Trainable params: 138,357,544\n",
      "Non-trainable params: 0\n",
      "_________________________________________________________________\n"
     ]
    }
   ],
   "source": [
    "# 기존 VGG 구조 확인\n",
    "ori_vgg16 = VGG16(weights='imagenet', include_top=True)\n",
    "ori_vgg16.summary()"
   ]
  },
  {
   "cell_type": "code",
   "execution_count": 3,
   "id": "forty-belle",
   "metadata": {
    "collapsed": true,
    "execution": {
     "iopub.execute_input": "2021-01-21T05:40:23.317247Z",
     "iopub.status.busy": "2021-01-21T05:40:23.317247Z",
     "iopub.status.idle": "2021-01-21T05:40:23.635265Z",
     "shell.execute_reply": "2021-01-21T05:40:23.634820Z",
     "shell.execute_reply.started": "2021-01-21T05:40:23.317247Z"
    },
    "jupyter": {
     "outputs_hidden": true
    }
   },
   "outputs": [
    {
     "name": "stdout",
     "output_type": "stream",
     "text": [
      "Model: \"vgg16\"\n",
      "_________________________________________________________________\n",
      "Layer (type)                 Output Shape              Param #   \n",
      "=================================================================\n",
      "input_2 (InputLayer)         [(None, 150, 150, 3)]     0         \n",
      "_________________________________________________________________\n",
      "block1_conv1 (Conv2D)        (None, 150, 150, 64)      1792      \n",
      "_________________________________________________________________\n",
      "block1_conv2 (Conv2D)        (None, 150, 150, 64)      36928     \n",
      "_________________________________________________________________\n",
      "block1_pool (MaxPooling2D)   (None, 75, 75, 64)        0         \n",
      "_________________________________________________________________\n",
      "block2_conv1 (Conv2D)        (None, 75, 75, 128)       73856     \n",
      "_________________________________________________________________\n",
      "block2_conv2 (Conv2D)        (None, 75, 75, 128)       147584    \n",
      "_________________________________________________________________\n",
      "block2_pool (MaxPooling2D)   (None, 37, 37, 128)       0         \n",
      "_________________________________________________________________\n",
      "block3_conv1 (Conv2D)        (None, 37, 37, 256)       295168    \n",
      "_________________________________________________________________\n",
      "block3_conv2 (Conv2D)        (None, 37, 37, 256)       590080    \n",
      "_________________________________________________________________\n",
      "block3_conv3 (Conv2D)        (None, 37, 37, 256)       590080    \n",
      "_________________________________________________________________\n",
      "block3_pool (MaxPooling2D)   (None, 18, 18, 256)       0         \n",
      "_________________________________________________________________\n",
      "block4_conv1 (Conv2D)        (None, 18, 18, 512)       1180160   \n",
      "_________________________________________________________________\n",
      "block4_conv2 (Conv2D)        (None, 18, 18, 512)       2359808   \n",
      "_________________________________________________________________\n",
      "block4_conv3 (Conv2D)        (None, 18, 18, 512)       2359808   \n",
      "_________________________________________________________________\n",
      "block4_pool (MaxPooling2D)   (None, 9, 9, 512)         0         \n",
      "_________________________________________________________________\n",
      "block5_conv1 (Conv2D)        (None, 9, 9, 512)         2359808   \n",
      "_________________________________________________________________\n",
      "block5_conv2 (Conv2D)        (None, 9, 9, 512)         2359808   \n",
      "_________________________________________________________________\n",
      "block5_conv3 (Conv2D)        (None, 9, 9, 512)         2359808   \n",
      "_________________________________________________________________\n",
      "block5_pool (MaxPooling2D)   (None, 4, 4, 512)         0         \n",
      "=================================================================\n",
      "Total params: 14,714,688\n",
      "Trainable params: 14,714,688\n",
      "Non-trainable params: 0\n",
      "_________________________________________________________________\n"
     ]
    }
   ],
   "source": [
    "sized_vgg16 = VGG16(weights='imagenet', include_top=False, input_shape=(150,150,3))\n",
    "sized_vgg16.summary()"
   ]
  },
  {
   "cell_type": "code",
   "execution_count": null,
   "id": "consistent-hypothesis",
   "metadata": {},
   "outputs": [],
   "source": [
    "# 함수형 api로 재구성 - acc 0.17 정도 나오는 코드\n",
    "image_input = Input(shape=(150,150,3)) # input_layer / 150x150xRGB\n",
    "# block1\n",
    "x = layers.Conv2D(64, 3, activation='relu', padding='same')(image_input) # block1_conv1 : Conv2D layer / 64_filter, kenel 3x3, 이미지 크기 변하지 않도록 same padding\n",
    "x = layers.Conv2D(64, 3, activation='relu', padding='same')(x) # block1_conv2 : Conv2D layer / 64_filter, kenel 3x3, 이미지 크기 변하지 않도록 same padding\n",
    "x = layers.MaxPooling2D(2, strides=2)(x) # block1_pool : MaxPooling2D layer / pool_size=2, stride=2 ~ 이미지 크기 (75,75)로 줄어듦음\n",
    "# block2\n",
    "x = layers.Conv2D(128, 3, activation='relu', padding='same')(x) # block2_conv1 : Conv2D layer / 128_filter, kenel 3x3, 이미지 크기 변하지 않도록 same padding\n",
    "x = layers.Conv2D(128, 3, activation='relu', padding='same')(x) # block2_conv2 : Conv2D layer / 128_filter, kenel 3x3, 이미지 크기 변하지 않도록 same padding\n",
    "x = layers.MaxPooling2D(2, strides=2)(x) # block2_pool : MaxPooling2D layer / pool_size=2, stride=2 ~ 이미지 크기 (37,37)로 줄어듦음\n",
    "# block3\n",
    "x = layers.Conv2D(256, 3, activation='relu', padding='same')(x) # block3_conv1 : Conv2D layer / 256_filter, kenel 3x3, 이미지 크기 변하지 않도록 same padding\n",
    "x = layers.Conv2D(256, 3, activation='relu', padding='same')(x) # block3_conv2 : Conv2D layer / 256_filter, kenel 3x3, 이미지 크기 변하지 않도록 same padding\n",
    "x = layers.Conv2D(256, 3, activation='relu', padding='same')(x) # block3_conv3 : Conv2D layer / 256_filter, kenel 3x3, 이미지 크기 변하지 않도록 same padding\n",
    "x = layers.MaxPooling2D(2, strides=2)(x) # block3_pool : MaxPooling2D layer / pool_size=2, stride=2 ~ 이미지 크기 (18,18)로 줄어듦음\n",
    "# block4 // 210122 : 필터 수 512에서 128로 변경\n",
    "x = layers.Conv2D(128, 3, activation='relu', padding='same')(x) # block4_conv1 : Conv2D layer / 512_filter, kenel 3x3, 이미지 크기 변하지 않도록 same padding\n",
    "x = layers.Conv2D(128, 3, activation='relu', padding='same')(x) # block4_conv2 : Conv2D layer / 512_filter, kenel 3x3, 이미지 크기 변하지 않도록 same padding\n",
    "x = layers.Conv2D(128, 3, activation='relu', padding='same')(x) # block4_conv3 : Conv2D layer / 512_filter, kenel 3x3, 이미지 크기 변하지 않도록 same padding\n",
    "x = layers.MaxPooling2D(2, strides=2)(x) # block4_pool : MaxPooling2D layer / pool_size=2, stride=2 ~ 이미지 크기 (9,9)로 줄어듦음\n",
    "# block5 // 210122 : 필터 수 512에서 64로 변경\n",
    "x = layers.Conv2D(64, 3, activation='relu', padding='same')(x) # block5_conv1 : Conv2D layer / 512_filter, kenel 3x3, 이미지 크기 변하지 않도록 same padding\n",
    "x = layers.Conv2D(64, 3, activation='relu', padding='same')(x) # block5_conv2 : Conv2D layer / 512_filter, kenel 3x3, 이미지 크기 변하지 않도록 same padding\n",
    "x = layers.Conv2D(64, 3, activation='relu', padding='same')(x) # block5_conv3 : Conv2D layer / 512_filter, kenel 3x3, 이미지 크기 변하지 않도록 same padding\n",
    "x = layers.MaxPooling2D(2, strides=2)(x) # block5_pool : MaxPooling2D layer / pool_size=2, stride=2 ~ 이미지 크기 (4,4)로 줄어듦음\n",
    "# fc 층 연결\n",
    "x = layers.Flatten()(x) # fc층 이전 flatten\n",
    "x = layers.Dense(1024, activation='relu')(x) # (4,4,512) -> 8192 => 4096 (절반) // 210122 : 1024로 변경\n",
    "x = layers.Dense(512, activation='relu')(x) # 4096 => 2048 (절반) // 210122 : 512로 변경\n",
    "output = layers.Dense(6, activation='softmax')(x) # 최종 클래스 6개"
   ]
  },
  {
   "cell_type": "code",
   "execution_count": 5,
   "id": "popular-underground",
   "metadata": {
    "execution": {
     "iopub.execute_input": "2021-01-21T05:40:24.096245Z",
     "iopub.status.busy": "2021-01-21T05:40:24.096245Z",
     "iopub.status.idle": "2021-01-21T05:40:24.110723Z",
     "shell.execute_reply": "2021-01-21T05:40:24.110126Z",
     "shell.execute_reply.started": "2021-01-21T05:40:24.096245Z"
    }
   },
   "outputs": [
    {
     "name": "stdout",
     "output_type": "stream",
     "text": [
      "Model: \"model\"\n",
      "_________________________________________________________________\n",
      "Layer (type)                 Output Shape              Param #   \n",
      "=================================================================\n",
      "input_3 (InputLayer)         [(None, 150, 150, 3)]     0         \n",
      "_________________________________________________________________\n",
      "conv2d (Conv2D)              (None, 150, 150, 64)      1792      \n",
      "_________________________________________________________________\n",
      "conv2d_1 (Conv2D)            (None, 150, 150, 64)      36928     \n",
      "_________________________________________________________________\n",
      "max_pooling2d (MaxPooling2D) (None, 75, 75, 64)        0         \n",
      "_________________________________________________________________\n",
      "conv2d_2 (Conv2D)            (None, 75, 75, 128)       73856     \n",
      "_________________________________________________________________\n",
      "conv2d_3 (Conv2D)            (None, 75, 75, 128)       147584    \n",
      "_________________________________________________________________\n",
      "max_pooling2d_1 (MaxPooling2 (None, 37, 37, 128)       0         \n",
      "_________________________________________________________________\n",
      "conv2d_4 (Conv2D)            (None, 37, 37, 256)       295168    \n",
      "_________________________________________________________________\n",
      "conv2d_5 (Conv2D)            (None, 37, 37, 256)       590080    \n",
      "_________________________________________________________________\n",
      "conv2d_6 (Conv2D)            (None, 37, 37, 256)       590080    \n",
      "_________________________________________________________________\n",
      "max_pooling2d_2 (MaxPooling2 (None, 18, 18, 256)       0         \n",
      "_________________________________________________________________\n",
      "conv2d_7 (Conv2D)            (None, 18, 18, 512)       1180160   \n",
      "_________________________________________________________________\n",
      "conv2d_8 (Conv2D)            (None, 18, 18, 512)       2359808   \n",
      "_________________________________________________________________\n",
      "conv2d_9 (Conv2D)            (None, 18, 18, 512)       2359808   \n",
      "_________________________________________________________________\n",
      "max_pooling2d_3 (MaxPooling2 (None, 9, 9, 512)         0         \n",
      "_________________________________________________________________\n",
      "conv2d_10 (Conv2D)           (None, 9, 9, 512)         2359808   \n",
      "_________________________________________________________________\n",
      "conv2d_11 (Conv2D)           (None, 9, 9, 512)         2359808   \n",
      "_________________________________________________________________\n",
      "conv2d_12 (Conv2D)           (None, 9, 9, 512)         2359808   \n",
      "_________________________________________________________________\n",
      "max_pooling2d_4 (MaxPooling2 (None, 4, 4, 512)         0         \n",
      "_________________________________________________________________\n",
      "flatten (Flatten)            (None, 8192)              0         \n",
      "_________________________________________________________________\n",
      "dense (Dense)                (None, 4096)              33558528  \n",
      "_________________________________________________________________\n",
      "dense_1 (Dense)              (None, 2048)              8390656   \n",
      "_________________________________________________________________\n",
      "dense_2 (Dense)              (None, 6)                 12294     \n",
      "=================================================================\n",
      "Total params: 56,676,166\n",
      "Trainable params: 56,676,166\n",
      "Non-trainable params: 0\n",
      "_________________________________________________________________\n"
     ]
    }
   ],
   "source": [
    "model = Model(image_input, output)\n",
    "model.summary()"
   ]
  },
  {
   "cell_type": "code",
   "execution_count": null,
   "id": "wanted-laundry",
   "metadata": {},
   "outputs": [],
   "source": [
    "# 데이터셋 불러오기\n",
    "## validation_split?\n",
    "train_datagen = ImageDataGenerator(rescale = 1./255)\n",
    "train_generator = train_datagen.flow_from_directory('/content/gdrive/MyDrive/vgg_practice_set/seg_train/seg_train', # 파일 위치 확인\n",
    "                                                    target_size=(150,150),\n",
    "                                                    batch_size = 5,\n",
    "                                                    class_mode='categorical')\n",
    "\n",
    "test_datagen = ImageDataGenerator(rescale = 1./255)\n",
    "test_generator = test_datagen.flow_from_directory('/content/gdrive/MyDrive/vgg_practice_set/seg_test/seg_test', # 파일 위치 확인\n",
    "                                                  target_size=(150,150),\n",
    "                                                  batch_size=5,\n",
    "                                                  class_mode='categorical')"
   ]
  },
  {
   "cell_type": "code",
   "execution_count": null,
   "id": "legislative-employment",
   "metadata": {},
   "outputs": [],
   "source": [
    "# callback 및 compile 설정\n",
    "callback_list = [callbacks.EarlyStopping(monitor='val_loss', patience=10),\n",
    "                 callbacks.ModelCheckpoint(filepath='./modelcheckpoint',monitor='val_loss',save_best_only=True)]\n",
    "\n",
    "model.compile(optimizer='adam',\n",
    "              loss='categorical_crossentropy',\n",
    "              metrics=['accuracy'])"
   ]
  },
  {
   "cell_type": "code",
   "execution_count": null,
   "id": "naughty-parent",
   "metadata": {},
   "outputs": [],
   "source": [
    "history = model.fit_generator(train_generator,\n",
    "                              epochs = 200, # 30 -> 200 으로 증가\n",
    "                              steps_per_epoch = 2806, # 14030 /5 = 2806\n",
    "                              validation_data=test_generator,\n",
    "                              callbacks = callback_list,\n",
    "                              validation_steps=600 # 3000 / 5 = 600\n",
    "                              )"
   ]
  },
  {
   "cell_type": "code",
   "execution_count": null,
   "id": "pressing-shield",
   "metadata": {},
   "outputs": [],
   "source": [
    "model.save('colab_vgg_test0122_kaggleCode.h5')"
   ]
  },
  {
   "cell_type": "code",
   "execution_count": null,
   "id": "selective-ready",
   "metadata": {},
   "outputs": [],
   "source": [
    "acc = history.history['accuracy']\n",
    "val_acc = history.history['val_accuracy']\n",
    "y_vloss = history.history['val_loss']\n",
    "y_loss = history.history['loss']"
   ]
  },
  {
   "cell_type": "code",
   "execution_count": null,
   "id": "incorporated-ceramic",
   "metadata": {},
   "outputs": [],
   "source": [
    "x_len = np.arange(len(y_acc))\n",
    "plt.plot(x_len, acc, \".\", c=\"red\", label='trainset_acc')\n",
    "plt.plot(x_len, val_acc, \".\", c=\"lightcoral\", label='testset_acc' )\n",
    "plt.plot(x_len, y_vloss, \".\", c=\"cornflowerblue\", label='testset_loss')\n",
    "plt.plot(x_len, y_loss, \".\", c=\"blue\", label='trainset_loss')\n",
    "plt.show()"
   ]
  },
  {
   "cell_type": "markdown",
   "id": "computational-affiliate",
   "metadata": {},
   "source": [
    "- Kaggle 코드 참고 : https://www.kaggle.com/trolukovich/vgg-like-87-accuracy-keras\n",
    "- kernel_initializer, batch_normalrization, kernel_regularization, momentum\n",
    "- Batch Normalization : 신경망 입력값을 평균 0, 분산 1로 정규화\n",
    "- batch normal doc 참고 : https://keras.io/api/layers/normalization_layers/batch_normalization/\n",
    "- 블로그 추가 참고 : https://eremo2002.tistory.com/55 / https://shuuki4.wordpress.com/2016/01/13/batch-normalization-%EC%84%A4%EB%AA%85-%EB%B0%8F-%EA%B5%AC%ED%98%84/"
   ]
  },
  {
   "cell_type": "markdown",
   "id": "behind-latvia",
   "metadata": {},
   "source": [
    "## ResNet\n",
    "- keras api\n",
    "- 참고 블로그 : https://eremo2002.tistory.com/76"
   ]
  },
  {
   "cell_type": "code",
   "execution_count": 5,
   "id": "earned-sleeve",
   "metadata": {
    "execution": {
     "iopub.execute_input": "2021-01-22T02:09:45.999435Z",
     "iopub.status.busy": "2021-01-22T02:09:45.998443Z",
     "iopub.status.idle": "2021-01-22T02:09:46.011472Z",
     "shell.execute_reply": "2021-01-22T02:09:46.010975Z",
     "shell.execute_reply.started": "2021-01-22T02:09:45.999435Z"
    }
   },
   "outputs": [],
   "source": [
    "# 기존 ResNet 구조 확인\n",
    "from tensorflow.keras.applications.resnet import ResNet50"
   ]
  },
  {
   "cell_type": "code",
   "execution_count": null,
   "id": "applicable-camcorder",
   "metadata": {},
   "outputs": [],
   "source": [
    "ori_res50 = ResNet50(include_top=True, weights='imagenet', input_tensor=None, input_shape=None, pooling=None, classes=1000)\n",
    "#AttributeError: 'str' object has no attribute 'decode' 오류 나면서 원본 구조 확인 불가?\n",
    "ori_res50.summary()"
   ]
  },
  {
   "cell_type": "code",
   "execution_count": null,
   "id": "subjective-scott",
   "metadata": {},
   "outputs": [],
   "source": [
    "# 참고 : https://eremo2002.tistory.com/76\n",
    "res_input = Input(shape=(150,150,3)) # input_layer / 150x150xRGB\n",
    "# conv1: Conv2D layer / 64_filter, kenel 7x7, 이미지 크기 변하지 않도록 same padding? ~ output size 보고 valid padding으로 변경 필요\n",
    "x = layers.Conv2D(filters=64, kernel_size=7, strides=2, activation='relu', padding='same')(image_input)\n",
    "x = layers.MaxPooling2D(3, strides=2)(x) # block1_pool : MaxPooling2D layer / pool_size=3, stride=2 ~ 이미지 크기 (75,75)로 줄어듦음\n",
    "# conv2_x\n",
    "\n",
    "res_output = layers.Dense(6, activation='softmax')(x) # 최종 클래스 6개"
   ]
  },
  {
   "cell_type": "code",
   "execution_count": null,
   "id": "differential-organic",
   "metadata": {},
   "outputs": [],
   "source": [
    "### 복붙용\n",
    "x = layers.Conv2D(128, 3, activation='relu', padding='same')(x) # block2_conv1 : Conv2D layer / 128_filter, kenel 3x3, 이미지 크기 변하지 않도록 same padding\n",
    "x = layers.Conv2D(128, 3, activation='relu', padding='same')(x) # block2_conv2 : Conv2D layer / 128_filter, kenel 3x3, 이미지 크기 변하지 않도록 same padding\n",
    "x = layers.MaxPooling2D(2, strides=2)(x) # block2_pool : MaxPooling2D layer / pool_size=2, stride=2 ~ 이미지 크기 (37,37)로 줄어듦음\n",
    "# block3\n",
    "x = layers.Conv2D(256, 3, activation='relu', padding='same')(x) # block3_conv1 : Conv2D layer / 256_filter, kenel 3x3, 이미지 크기 변하지 않도록 same padding\n",
    "x = layers.Conv2D(256, 3, activation='relu', padding='same')(x) # block3_conv2 : Conv2D layer / 256_filter, kenel 3x3, 이미지 크기 변하지 않도록 same padding\n",
    "x = layers.Conv2D(256, 3, activation='relu', padding='same')(x) # block3_conv3 : Conv2D layer / 256_filter, kenel 3x3, 이미지 크기 변하지 않도록 same padding\n",
    "x = layers.MaxPooling2D(2, strides=2)(x) # block3_pool : MaxPooling2D layer / pool_size=2, stride=2 ~ 이미지 크기 (18,18)로 줄어듦음\n",
    "# block4\n",
    "x = layers.Conv2D(512, 3, activation='relu', padding='same')(x) # block4_conv1 : Conv2D layer / 512_filter, kenel 3x3, 이미지 크기 변하지 않도록 same padding\n",
    "x = layers.Conv2D(512, 3, activation='relu', padding='same')(x) # block4_conv2 : Conv2D layer / 512_filter, kenel 3x3, 이미지 크기 변하지 않도록 same padding\n",
    "x = layers.Conv2D(512, 3, activation='relu', padding='same')(x) # block4_conv3 : Conv2D layer / 512_filter, kenel 3x3, 이미지 크기 변하지 않도록 same padding\n",
    "x = layers.MaxPooling2D(2, strides=2)(x) # block4_pool : MaxPooling2D layer / pool_size=2, stride=2 ~ 이미지 크기 (9,9)로 줄어듦음\n",
    "# block5\n",
    "x = layers.Conv2D(512, 3, activation='relu', padding='same')(x) # block5_conv1 : Conv2D layer / 512_filter, kenel 3x3, 이미지 크기 변하지 않도록 same padding\n",
    "x = layers.Conv2D(512, 3, activation='relu', padding='same')(x) # block5_conv2 : Conv2D layer / 512_filter, kenel 3x3, 이미지 크기 변하지 않도록 same padding\n",
    "x = layers.Conv2D(512, 3, activation='relu', padding='same')(x) # block5_conv3 : Conv2D layer / 512_filter, kenel 3x3, 이미지 크기 변하지 않도록 same padding\n",
    "x = layers.MaxPooling2D(2, strides=2)(x) # block5_pool : MaxPooling2D layer / pool_size=2, stride=2 ~ 이미지 크기 (4,4)로 줄어듦음\n",
    "# fc 층 연결\n",
    "x = layers.Flatten()(x) # fc층 이전 flatten\n",
    "x = layers.Dense(4096, activation='relu')(x) # (4,4,512) -> 8192 => 4096 (절반)\n",
    "x = layers.Dense(2048, activation='relu')(x) # 4096 => 2048 (절반)\n",
    "output = layers.Dense(6, activation='softmax')(x) # 최종 클래스 6개"
   ]
  },
  {
   "cell_type": "code",
   "execution_count": null,
   "id": "introductory-adrian",
   "metadata": {},
   "outputs": [],
   "source": [
    "res_model = Model(res_input, output)\n",
    "res_model.summary()"
   ]
  },
  {
   "cell_type": "code",
   "execution_count": null,
   "id": "lined-steal",
   "metadata": {},
   "outputs": [],
   "source": []
  },
  {
   "cell_type": "code",
   "execution_count": null,
   "id": "specific-citation",
   "metadata": {},
   "outputs": [],
   "source": []
  },
  {
   "cell_type": "code",
   "execution_count": null,
   "id": "severe-works",
   "metadata": {},
   "outputs": [],
   "source": []
  }
 ],
 "metadata": {
  "kernelspec": {
   "display_name": "Python 3",
   "language": "python",
   "name": "python3"
  },
  "language_info": {
   "codemirror_mode": {
    "name": "ipython",
    "version": 3
   },
   "file_extension": ".py",
   "mimetype": "text/x-python",
   "name": "python",
   "nbconvert_exporter": "python",
   "pygments_lexer": "ipython3",
   "version": "3.7.9"
  }
 },
 "nbformat": 4,
 "nbformat_minor": 5
}
