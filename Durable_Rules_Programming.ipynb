{
 "cells": [
  {
   "cell_type": "code",
   "execution_count": 1,
   "id": "hidden-consistency",
   "metadata": {
    "execution": {
     "iopub.execute_input": "2021-03-25T23:48:06.177934Z",
     "iopub.status.busy": "2021-03-25T23:48:06.177934Z",
     "iopub.status.idle": "2021-03-25T23:48:06.204585Z",
     "shell.execute_reply": "2021-03-25T23:48:06.204084Z",
     "shell.execute_reply.started": "2021-03-25T23:48:06.177934Z"
    }
   },
   "outputs": [],
   "source": [
    "from durable.lang import *"
   ]
  },
  {
   "cell_type": "code",
   "execution_count": null,
   "id": "proud-order",
   "metadata": {},
   "outputs": [],
   "source": []
  }
 ],
 "metadata": {
  "kernelspec": {
   "display_name": "Python 3",
   "language": "python",
   "name": "python3"
  },
  "language_info": {
   "codemirror_mode": {
    "name": "ipython",
    "version": 3
   },
   "file_extension": ".py",
   "mimetype": "text/x-python",
   "name": "python",
   "nbconvert_exporter": "python",
   "pygments_lexer": "ipython3",
   "version": "3.7.9"
  }
 },
 "nbformat": 4,
 "nbformat_minor": 5
}
