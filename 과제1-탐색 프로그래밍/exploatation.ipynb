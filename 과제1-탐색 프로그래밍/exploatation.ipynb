{
 "cells": [
  {
   "cell_type": "code",
   "execution_count": 2,
   "id": "acting-independence",
   "metadata": {
    "execution": {
     "iopub.execute_input": "2021-03-24T23:51:37.947313Z",
     "iopub.status.busy": "2021-03-24T23:51:37.947313Z",
     "iopub.status.idle": "2021-03-24T23:51:40.930124Z",
     "shell.execute_reply": "2021-03-24T23:51:40.930124Z",
     "shell.execute_reply.started": "2021-03-24T23:51:37.947313Z"
    }
   },
   "outputs": [],
   "source": [
    "import numpy as np\n",
    "import heapq # min-heap를 구현하는 heap queue\n",
    "import matplotlib.pyplot as plt\n",
    "from matplotlib.pyplot import figure"
   ]
  },
  {
   "cell_type": "code",
   "execution_count": 9,
   "id": "helpful-mission",
   "metadata": {
    "execution": {
     "iopub.execute_input": "2021-03-24T23:58:25.650481Z",
     "iopub.status.busy": "2021-03-24T23:58:25.649846Z",
     "iopub.status.idle": "2021-03-24T23:58:25.680722Z",
     "shell.execute_reply": "2021-03-24T23:58:25.679709Z",
     "shell.execute_reply.started": "2021-03-24T23:58:25.650481Z"
    }
   },
   "outputs": [],
   "source": [
    "# 지도:  벽~1, 빈 공간~0\n",
    "grid = np.array([\n",
    "    [0,1,0,0,0,0,1,1,0,0,0,0,0,0,0,0,0,0,0,0],\n",
    "    [0,1,0,0,0,0,0,1,1,0,0,0,0,0,0,0,0,0,0,0],\n",
    "    [0,0,0,0,0,0,1,0,1,0,0,0,0,0,0,0,0,0,0,0],\n",
    "    [0,0,1,0,0,0,0,0,1,0,0,0,0,0,0,0,0,0,0,0],\n",
    "    [0,0,0,0,0,0,0,0,1,0,0,0,0,0,0,0,0,0,0,0],\n",
    "    [1,0,0,1,1,1,0,0,1,0,0,0,0,0,0,0,0,0,0,0],\n",
    "    [1,0,0,0,0,0,0,0,1,0,0,0,0,1,1,1,1,1,0,1],\n",
    "    [1,0,0,0,0,0,0,0,1,0,0,0,0,1,1,1,0,0,0,0],\n",
    "    [1,0,0,0,0,0,0,0,1,0,0,0,0,1,1,1,0,0,0,0],\n",
    "    [0,0,0,0,0,0,0,0,1,1,1,1,1,1,0,0,0,0,0,0],\n",
    "    [0,0,0,0,0,0,0,0,1,0,0,0,0,0,0,0,0,0,0,0],\n",
    "    [1,1,1,1,1,0,0,0,1,0,0,0,0,0,0,0,1,1,1,1],\n",
    "    [0,0,0,0,0,0,0,0,1,0,0,1,1,1,1,0,1,1,1,0],\n",
    "    [0,0,0,0,0,0,0,0,1,0,0,0,0,0,0,0,0,0,0,0],\n",
    "    [0,0,0,0,0,0,0,0,1,1,1,1,1,1,0,1,1,1,0,0],\n",
    "    [0,0,1,1,1,1,1,1,1,0,0,0,0,1,0,0,0,0,0,0],\n",
    "    [0,0,1,0,0,0,0,0,0,0,0,0,0,1,0,0,0,0,0,0],\n",
    "    [0,0,1,0,0,0,0,0,0,0,0,0,0,0,0,0,0,0,0,0],\n",
    "    [0,0,0,0,0,0,0,0,0,0,0,0,0,1,0,0,0,0,0,0],\n",
    "    [0,0,1,1,1,0,0,0,0,0,0,0,0,0,0,0,0,0,0,0]\n",
    "])\n",
    "\n",
    "start = (0,0)\n",
    "goal = (0,19)\n",
    "\n",
    "# 휴리스틱 함수 h() : a,b 사이 유클리드 거리\n",
    "## 시간이나 정보가 불충분하여 합리적 판단을 할 수 없거나\n",
    "## 굳이 체계적이고 합리적인 판단을 할 필요가 없는 상황에서\n",
    "## 신속하게 어림짐작하는 것\n",
    "def heuristic(a,b):\n",
    "    return np.sqrt( (b[0]-a[0])**2 + (b[1]-a[1])** 2)\n",
    "\n",
    "# A* 알고리즘 : 추정한 전체비용을 최소로 하는 노드를 확장해가는 방법\n",
    "# f(n) : 노드 n을 경유하는 전체 비용, g(n)+h(n)\n",
    "# g(n) : 노드 n까지 이미 투입된 비용\n",
    "# h(n) : 목표 노드까지 남은 비용 ~ 정확한 예측이 불가하므로 휴리스틱 함수 h^() 사용\n",
    "# -> 노드 n을 경유하는 추정 전체 비용 f^(n) = g(n) + h^(n)\n",
    "def Astar(array, start, goal):\n",
    "    # 이웃 위치 8방향\n",
    "    neighbors = [(0,1),(0,-1),(1,0),(-1,0),\n",
    "                 (1,1),(1,-1),(-1,1),(-1,-1)]\n",
    "    close_set = set() # 탐색 종료된 위치들의 집합\n",
    "    came_from = {}\n",
    "    gscore = {start:0} # 시작 위치의 g()값\n",
    "    fscore = {start:heuristic(start,goal)} # 시작 위치의 f()값\n",
    "    oheap = [] # min-heap\n",
    "    heapq.heappush(oheap, (fscore[start],start)) # (거리,출발지) min-heap에 저장\n",
    "    \n",
    "    while oheap:\n",
    "        current = heapq.heappop(oheap)[1] # f()값이 최소인 노드 추출\n",
    "        if current == goal: # 목적지 도착 상황\n",
    "            data = []\n",
    "            while current in came_from: # 목적지에서 역순으로 경로 추출\n",
    "                data.append(current)\n",
    "                current = came_from[current]\n",
    "            return data\n",
    "        close_set.add(current) # current 위치를 탐색이 종료된 것으로 간주\n",
    "        \n",
    "        for i,j in neighbors: # current 위치의 각 이웃 위치에 대한 f()값 계산\n",
    "            neighbor = current[0]+i, current[1]+j # 이웃 위치\n",
    "            if 0 <= neighbor[0] < array.shape[0]:\n",
    "                if 0 <= neighbor[1] < array.shape[1]:\n",
    "                    if array[neighbor[0]][neighbor[1]] == 1: # 벽\n",
    "                        continue\n",
    "                    else : # y 방향 경계 벗어남\n",
    "                        continue\n",
    "                else : # x 방향 경계 벗어남\n",
    "                    continue\n",
    "            \n",
    "            temp_g_score = gscore[current] + heuristic(current, neighbor) # g^(n) = g(c)+h((c,n))\n",
    "            if neighbor in close_set and temp_g_score >= gscore.get(neighbor,0):\n",
    "                continue # 이미 방문한 위치이면서 g^()값이 기존 g()값보다 큰 경우 -> 무시\n",
    "            \n",
    "            if temp_g_score < gscore.get(neighbor,0) or neighbor not in [i[1] for i in oheap]:\n",
    "                # g^(n) < g(n) 이거나 n을 처음 방문한 경우\n",
    "                came_from[neighbor] = current # neighbor에 도달한 최선의 경로에서 직전 위치는 current\n",
    "                gscore[neighbor] = temp_g_score # g(n) = g^(n)\n",
    "                fscore[neighbor] = gscore[current] + heuristic(neighbor, goal) # f() = g()+h()\n",
    "                heapq.heappush(oheap, (fscore[neighbor], neighbor)) # min heap에 (f(), neighbor) 삽입\n",
    "    return False"
   ]
  },
  {
   "cell_type": "code",
   "execution_count": null,
   "id": "varied-auditor",
   "metadata": {
    "execution": {
     "iopub.execute_input": "2021-03-24T23:58:27.488255Z",
     "iopub.status.busy": "2021-03-24T23:58:27.488255Z"
    }
   },
   "outputs": [],
   "source": [
    "route = Astar(grid, start, goal)\n",
    "route = route + [start]\n",
    "route = route[::-1] # 역순으로 변환\n",
    "print(\"경로 : \", route)\n",
    "\n",
    "# route에서 x, y 좌표 추출\n",
    "x_coords = []\n",
    "y_coords = []\n",
    "\n",
    "for i in (range(0,len(route))):\n",
    "    x = route[i][0]\n",
    "    y = route[i][1]\n",
    "    x_coords.append(x)\n",
    "    y_coords.append(y)"
   ]
  },
  {
   "cell_type": "code",
   "execution_count": null,
   "id": "alternative-fellowship",
   "metadata": {},
   "outputs": [],
   "source": [
    "fig, ax = plt.subplots(figsize=(12,12))\n",
    "ax.imshow(grid, cmap=plt.cm.Pastel1)\n",
    "ax.scatter(start[1],start[0], marker=\"*\", color=\"red\", s=200)\n",
    "ax.scatter(goal[1],goal[0], marker=\"*\", color=\"green\", s=200)\n",
    "ax.plot(y_coords, x_coords, color='blue')\n",
    "plt.show()"
   ]
  }
 ],
 "metadata": {
  "kernelspec": {
   "display_name": "Python 3",
   "language": "python",
   "name": "python3"
  },
  "language_info": {
   "codemirror_mode": {
    "name": "ipython",
    "version": 3
   },
   "file_extension": ".py",
   "mimetype": "text/x-python",
   "name": "python",
   "nbconvert_exporter": "python",
   "pygments_lexer": "ipython3",
   "version": "3.7.9"
  }
 },
 "nbformat": 4,
 "nbformat_minor": 5
}
