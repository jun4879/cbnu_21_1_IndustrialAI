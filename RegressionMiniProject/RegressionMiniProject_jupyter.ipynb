{
 "cells": [
  {
   "cell_type": "code",
   "execution_count": 1,
   "id": "checked-shannon",
   "metadata": {
    "execution": {
     "iopub.execute_input": "2021-05-06T06:33:31.205254Z",
     "iopub.status.busy": "2021-05-06T06:33:31.205254Z",
     "iopub.status.idle": "2021-05-06T06:33:33.327596Z",
     "shell.execute_reply": "2021-05-06T06:33:33.326214Z",
     "shell.execute_reply.started": "2021-05-06T06:33:31.205254Z"
    },
    "tags": []
   },
   "outputs": [],
   "source": [
    "import pandas as pd\n",
    "import numpy as np\n",
    "from sklearn.model_selection import train_test_split\n",
    "from sklearn import preprocessing\n",
    "from sklearn.linear_model import LinearRegression, Ridge, Lasso, ElasticNet\n",
    "from sklearn.svm import SVR\n",
    "from sklearn.metrics import mean_squared_error\n",
    "from sklearn.pipeline import make_pipeline"
   ]
  },
  {
   "cell_type": "code",
   "execution_count": 2,
   "id": "affecting-flower",
   "metadata": {
    "execution": {
     "iopub.execute_input": "2021-05-06T06:33:33.328550Z",
     "iopub.status.busy": "2021-05-06T06:33:33.328550Z",
     "iopub.status.idle": "2021-05-06T06:33:33.403512Z",
     "shell.execute_reply": "2021-05-06T06:33:33.403011Z",
     "shell.execute_reply.started": "2021-05-06T06:33:33.328550Z"
    },
    "tags": []
   },
   "outputs": [
    {
     "name": "stdout",
     "output_type": "stream",
     "text": [
      "<class 'pandas.core.frame.DataFrame'>\n",
      "Int64Index: 1551 entries, 0 to 1550\n",
      "Data columns (total 20 columns):\n",
      " #   Column    Non-Null Count  Dtype  \n",
      "---  ------    --------------  -----  \n",
      " 0   회사코드      1551 non-null   int64  \n",
      " 1   사업장코드     1551 non-null   int64  \n",
      " 2   생산일자      1551 non-null   object \n",
      " 3   생산순번      1551 non-null   int64  \n",
      " 4   생산지시생성일자  1551 non-null   object \n",
      " 5   생산지시순번    1551 non-null   int64  \n",
      " 6   생산진행순번    57 non-null     float64\n",
      " 7   품목코드      1551 non-null   object \n",
      " 8   target    1551 non-null   float64\n",
      " 9   Line코드    1551 non-null   object \n",
      " 10  실적작업장     1551 non-null   object \n",
      " 11  표준ST      1551 non-null   float64\n",
      " 12  작업상태      1551 non-null   int64  \n",
      " 13  작업시작일시    1551 non-null   object \n",
      " 14  종료예상일시    0 non-null      float64\n",
      " 15  작업종료일시    1551 non-null   object \n",
      " 16  투입인원      1551 non-null   int64  \n",
      " 17  작업시간      1551 non-null   float64\n",
      " 18  등록자ID     1551 non-null   int64  \n",
      " 19  등록시간      1551 non-null   object \n",
      "dtypes: float64(5), int64(7), object(8)\n",
      "memory usage: 254.5+ KB\n"
     ]
    }
   ],
   "source": [
    "raw_data = pd.read_csv(\"./product_regression.csv\", index_col = 0)\n",
    "raw_data.info()"
   ]
  },
  {
   "cell_type": "code",
   "execution_count": 3,
   "id": "documentary-chinese",
   "metadata": {
    "execution": {
     "iopub.execute_input": "2021-05-06T06:33:33.404606Z",
     "iopub.status.busy": "2021-05-06T06:33:33.404606Z",
     "iopub.status.idle": "2021-05-06T06:33:33.449197Z",
     "shell.execute_reply": "2021-05-06T06:33:33.448195Z",
     "shell.execute_reply.started": "2021-05-06T06:33:33.404606Z"
    },
    "tags": []
   },
   "outputs": [
    {
     "data": {
      "text/html": [
       "<div>\n",
       "<style scoped>\n",
       "    .dataframe tbody tr th:only-of-type {\n",
       "        vertical-align: middle;\n",
       "    }\n",
       "\n",
       "    .dataframe tbody tr th {\n",
       "        vertical-align: top;\n",
       "    }\n",
       "\n",
       "    .dataframe thead th {\n",
       "        text-align: right;\n",
       "    }\n",
       "</style>\n",
       "<table border=\"1\" class=\"dataframe\">\n",
       "  <thead>\n",
       "    <tr style=\"text-align: right;\">\n",
       "      <th></th>\n",
       "      <th>회사코드</th>\n",
       "      <th>사업장코드</th>\n",
       "      <th>생산일자</th>\n",
       "      <th>생산순번</th>\n",
       "      <th>생산지시생성일자</th>\n",
       "      <th>생산지시순번</th>\n",
       "      <th>생산진행순번</th>\n",
       "      <th>품목코드</th>\n",
       "      <th>target</th>\n",
       "      <th>Line코드</th>\n",
       "      <th>실적작업장</th>\n",
       "      <th>표준ST</th>\n",
       "      <th>작업상태</th>\n",
       "      <th>작업시작일시</th>\n",
       "      <th>종료예상일시</th>\n",
       "      <th>작업종료일시</th>\n",
       "      <th>투입인원</th>\n",
       "      <th>작업시간</th>\n",
       "      <th>등록자ID</th>\n",
       "      <th>등록시간</th>\n",
       "    </tr>\n",
       "  </thead>\n",
       "  <tbody>\n",
       "    <tr>\n",
       "      <th>1546</th>\n",
       "      <td>139</td>\n",
       "      <td>0</td>\n",
       "      <td>2021-04-21 00:00:00</td>\n",
       "      <td>41</td>\n",
       "      <td>2021-04-15 00:00:00</td>\n",
       "      <td>58</td>\n",
       "      <td>NaN</td>\n",
       "      <td>72312724118</td>\n",
       "      <td>88.0</td>\n",
       "      <td>L21</td>\n",
       "      <td>A22</td>\n",
       "      <td>0.836</td>\n",
       "      <td>3</td>\n",
       "      <td>2021-04-21 13:50:54.000</td>\n",
       "      <td>NaN</td>\n",
       "      <td>2021-04-21 15:25:09.383</td>\n",
       "      <td>1</td>\n",
       "      <td>95.0</td>\n",
       "      <td>117</td>\n",
       "      <td>2021-04-21 13:50:52.523</td>\n",
       "    </tr>\n",
       "    <tr>\n",
       "      <th>1547</th>\n",
       "      <td>139</td>\n",
       "      <td>0</td>\n",
       "      <td>2021-04-21 00:00:00</td>\n",
       "      <td>42</td>\n",
       "      <td>2021-04-02 00:00:00</td>\n",
       "      <td>31</td>\n",
       "      <td>NaN</td>\n",
       "      <td>38120028</td>\n",
       "      <td>74.0</td>\n",
       "      <td>L21</td>\n",
       "      <td>A21</td>\n",
       "      <td>6.930</td>\n",
       "      <td>3</td>\n",
       "      <td>2021-04-20 15:00:09.000</td>\n",
       "      <td>NaN</td>\n",
       "      <td>2021-04-21 15:38:31.933</td>\n",
       "      <td>1</td>\n",
       "      <td>1478.0</td>\n",
       "      <td>120</td>\n",
       "      <td>2021-04-20 15:00:07.090</td>\n",
       "    </tr>\n",
       "    <tr>\n",
       "      <th>1548</th>\n",
       "      <td>139</td>\n",
       "      <td>0</td>\n",
       "      <td>2021-04-21 00:00:00</td>\n",
       "      <td>43</td>\n",
       "      <td>2021-04-13 00:00:00</td>\n",
       "      <td>11</td>\n",
       "      <td>NaN</td>\n",
       "      <td>38020117</td>\n",
       "      <td>150.0</td>\n",
       "      <td>L21</td>\n",
       "      <td>A21</td>\n",
       "      <td>1.452</td>\n",
       "      <td>3</td>\n",
       "      <td>2021-04-21 14:21:47.000</td>\n",
       "      <td>NaN</td>\n",
       "      <td>2021-04-21 15:41:20.297</td>\n",
       "      <td>1</td>\n",
       "      <td>80.0</td>\n",
       "      <td>117</td>\n",
       "      <td>2021-04-21 14:21:37.520</td>\n",
       "    </tr>\n",
       "    <tr>\n",
       "      <th>1549</th>\n",
       "      <td>139</td>\n",
       "      <td>0</td>\n",
       "      <td>2021-04-21 00:00:00</td>\n",
       "      <td>44</td>\n",
       "      <td>2021-04-02 00:00:00</td>\n",
       "      <td>31</td>\n",
       "      <td>NaN</td>\n",
       "      <td>38120028</td>\n",
       "      <td>6.0</td>\n",
       "      <td>L21</td>\n",
       "      <td>A21</td>\n",
       "      <td>6.930</td>\n",
       "      <td>3</td>\n",
       "      <td>2021-04-21 15:40:32.000</td>\n",
       "      <td>NaN</td>\n",
       "      <td>2021-04-21 15:41:52.460</td>\n",
       "      <td>1</td>\n",
       "      <td>1.0</td>\n",
       "      <td>117</td>\n",
       "      <td>2021-04-21 15:38:31.937</td>\n",
       "    </tr>\n",
       "    <tr>\n",
       "      <th>1550</th>\n",
       "      <td>139</td>\n",
       "      <td>0</td>\n",
       "      <td>2021-04-21 00:00:00</td>\n",
       "      <td>48</td>\n",
       "      <td>2021-04-13 00:00:00</td>\n",
       "      <td>15</td>\n",
       "      <td>NaN</td>\n",
       "      <td>38040050</td>\n",
       "      <td>179.0</td>\n",
       "      <td>L21</td>\n",
       "      <td>A22</td>\n",
       "      <td>2.343</td>\n",
       "      <td>3</td>\n",
       "      <td>2021-04-21 11:58:41.000</td>\n",
       "      <td>NaN</td>\n",
       "      <td>2021-04-21 16:26:10.020</td>\n",
       "      <td>1</td>\n",
       "      <td>268.0</td>\n",
       "      <td>117</td>\n",
       "      <td>2021-04-21 11:58:31.517</td>\n",
       "    </tr>\n",
       "  </tbody>\n",
       "</table>\n",
       "</div>"
      ],
      "text/plain": [
       "      회사코드  사업장코드                 생산일자  생산순번             생산지시생성일자  생산지시순번  \\\n",
       "1546   139      0  2021-04-21 00:00:00    41  2021-04-15 00:00:00      58   \n",
       "1547   139      0  2021-04-21 00:00:00    42  2021-04-02 00:00:00      31   \n",
       "1548   139      0  2021-04-21 00:00:00    43  2021-04-13 00:00:00      11   \n",
       "1549   139      0  2021-04-21 00:00:00    44  2021-04-02 00:00:00      31   \n",
       "1550   139      0  2021-04-21 00:00:00    48  2021-04-13 00:00:00      15   \n",
       "\n",
       "      생산진행순번         품목코드  target Line코드 실적작업장   표준ST  작업상태  \\\n",
       "1546     NaN  72312724118    88.0    L21   A22  0.836     3   \n",
       "1547     NaN     38120028    74.0    L21   A21  6.930     3   \n",
       "1548     NaN     38020117   150.0    L21   A21  1.452     3   \n",
       "1549     NaN     38120028     6.0    L21   A21  6.930     3   \n",
       "1550     NaN     38040050   179.0    L21   A22  2.343     3   \n",
       "\n",
       "                       작업시작일시  종료예상일시                   작업종료일시  투입인원    작업시간  \\\n",
       "1546  2021-04-21 13:50:54.000     NaN  2021-04-21 15:25:09.383     1    95.0   \n",
       "1547  2021-04-20 15:00:09.000     NaN  2021-04-21 15:38:31.933     1  1478.0   \n",
       "1548  2021-04-21 14:21:47.000     NaN  2021-04-21 15:41:20.297     1    80.0   \n",
       "1549  2021-04-21 15:40:32.000     NaN  2021-04-21 15:41:52.460     1     1.0   \n",
       "1550  2021-04-21 11:58:41.000     NaN  2021-04-21 16:26:10.020     1   268.0   \n",
       "\n",
       "      등록자ID                     등록시간  \n",
       "1546    117  2021-04-21 13:50:52.523  \n",
       "1547    120  2021-04-20 15:00:07.090  \n",
       "1548    117  2021-04-21 14:21:37.520  \n",
       "1549    117  2021-04-21 15:38:31.937  \n",
       "1550    117  2021-04-21 11:58:31.517  "
      ]
     },
     "execution_count": 3,
     "metadata": {},
     "output_type": "execute_result"
    }
   ],
   "source": [
    "df = raw_data.copy()\n",
    "df.tail()"
   ]
  },
  {
   "cell_type": "code",
   "execution_count": 4,
   "id": "plain-armenia",
   "metadata": {
    "execution": {
     "iopub.execute_input": "2021-05-06T06:33:33.450215Z",
     "iopub.status.busy": "2021-05-06T06:33:33.450215Z",
     "iopub.status.idle": "2021-05-06T06:33:33.464130Z",
     "shell.execute_reply": "2021-05-06T06:33:33.463595Z",
     "shell.execute_reply.started": "2021-05-06T06:33:33.450215Z"
    },
    "tags": []
   },
   "outputs": [],
   "source": [
    "# 데이터 unique 값 확인\n",
    "#for column in df.columns:\n",
    "#    print(column,\": \", df[column].unique())\n",
    "#    print(\"\")"
   ]
  },
  {
   "cell_type": "code",
   "execution_count": 5,
   "id": "latin-following",
   "metadata": {
    "execution": {
     "iopub.execute_input": "2021-05-06T06:33:33.465157Z",
     "iopub.status.busy": "2021-05-06T06:33:33.465157Z",
     "iopub.status.idle": "2021-05-06T06:33:33.478972Z",
     "shell.execute_reply": "2021-05-06T06:33:33.478472Z",
     "shell.execute_reply.started": "2021-05-06T06:33:33.465157Z"
    },
    "tags": []
   },
   "outputs": [
    {
     "data": {
      "text/html": [
       "<div>\n",
       "<style scoped>\n",
       "    .dataframe tbody tr th:only-of-type {\n",
       "        vertical-align: middle;\n",
       "    }\n",
       "\n",
       "    .dataframe tbody tr th {\n",
       "        vertical-align: top;\n",
       "    }\n",
       "\n",
       "    .dataframe thead th {\n",
       "        text-align: right;\n",
       "    }\n",
       "</style>\n",
       "<table border=\"1\" class=\"dataframe\">\n",
       "  <thead>\n",
       "    <tr style=\"text-align: right;\">\n",
       "      <th></th>\n",
       "      <th>생산순번</th>\n",
       "      <th>생산지시순번</th>\n",
       "      <th>target</th>\n",
       "      <th>실적작업장</th>\n",
       "      <th>투입인원</th>\n",
       "      <th>작업시간</th>\n",
       "    </tr>\n",
       "  </thead>\n",
       "  <tbody>\n",
       "    <tr>\n",
       "      <th>0</th>\n",
       "      <td>9</td>\n",
       "      <td>55</td>\n",
       "      <td>365.0</td>\n",
       "      <td>A11</td>\n",
       "      <td>3</td>\n",
       "      <td>8.0</td>\n",
       "    </tr>\n",
       "    <tr>\n",
       "      <th>1</th>\n",
       "      <td>11</td>\n",
       "      <td>68</td>\n",
       "      <td>20.0</td>\n",
       "      <td>A23</td>\n",
       "      <td>2</td>\n",
       "      <td>3.0</td>\n",
       "    </tr>\n",
       "    <tr>\n",
       "      <th>2</th>\n",
       "      <td>14</td>\n",
       "      <td>59</td>\n",
       "      <td>3.0</td>\n",
       "      <td>A23</td>\n",
       "      <td>2</td>\n",
       "      <td>0.0</td>\n",
       "    </tr>\n",
       "    <tr>\n",
       "      <th>3</th>\n",
       "      <td>15</td>\n",
       "      <td>54</td>\n",
       "      <td>76.0</td>\n",
       "      <td>A23</td>\n",
       "      <td>2</td>\n",
       "      <td>0.0</td>\n",
       "    </tr>\n",
       "    <tr>\n",
       "      <th>4</th>\n",
       "      <td>17</td>\n",
       "      <td>44</td>\n",
       "      <td>300.0</td>\n",
       "      <td>A22</td>\n",
       "      <td>1</td>\n",
       "      <td>1.0</td>\n",
       "    </tr>\n",
       "  </tbody>\n",
       "</table>\n",
       "</div>"
      ],
      "text/plain": [
       "   생산순번  생산지시순번  target 실적작업장  투입인원  작업시간\n",
       "0     9      55   365.0   A11     3   8.0\n",
       "1    11      68    20.0   A23     2   3.0\n",
       "2    14      59     3.0   A23     2   0.0\n",
       "3    15      54    76.0   A23     2   0.0\n",
       "4    17      44   300.0   A22     1   1.0"
      ]
     },
     "execution_count": 5,
     "metadata": {},
     "output_type": "execute_result"
    }
   ],
   "source": [
    "# 전처리\n",
    "# 등록자ID, 등록시간 : 생산실적 예측에 영향을 미치지 않을 컬럼이므로 제거\n",
    "# Line코드 : L21 작업라인에 대한 데이터만 불러왔으므로 제거\n",
    "# 회사코드, 사업장코드, 작업상태 : 모두 같은 값이므로 제거\n",
    "# 생산진행순번 : 결측치 다수 이므로 제거\n",
    "# 종료예상일시 : 값이 모두 결측치\n",
    "# 작업시작일시 - 작업종료일시 = 작업시간 : 작업시작일시, 작업종료일시 제거\n",
    "# 표준 ST(Standard Time) : 작업시간 기준에 대한 명시이므로 제거\n",
    "# 생산일자 = 작업종료일시 일자 : 제거\n",
    "# 품목코드 : Regression 모델 적용을 위한 Encoding이 필요하나 생략\n",
    "df_drop_columns = df.drop(['등록자ID','등록시간','Line코드','회사코드','사업장코드',\n",
    "                           '작업상태','생산진행순번','종료예상일시','작업시작일시',\n",
    "                           '작업종료일시','표준ST','생산일자','생산지시생성일자',\n",
    "                           '품목코드'],axis=1)\n",
    "df_drop_columns.head()"
   ]
  },
  {
   "cell_type": "code",
   "execution_count": 6,
   "id": "celtic-acrobat",
   "metadata": {
    "execution": {
     "iopub.execute_input": "2021-05-06T06:33:33.480814Z",
     "iopub.status.busy": "2021-05-06T06:33:33.480814Z",
     "iopub.status.idle": "2021-05-06T06:33:33.493866Z",
     "shell.execute_reply": "2021-05-06T06:33:33.493366Z",
     "shell.execute_reply.started": "2021-05-06T06:33:33.480814Z"
    }
   },
   "outputs": [
    {
     "name": "stdout",
     "output_type": "stream",
     "text": [
      "<class 'pandas.core.frame.DataFrame'>\n",
      "Int64Index: 1551 entries, 0 to 1550\n",
      "Data columns (total 6 columns):\n",
      " #   Column  Non-Null Count  Dtype  \n",
      "---  ------  --------------  -----  \n",
      " 0   생산순번    1551 non-null   int64  \n",
      " 1   생산지시순번  1551 non-null   int64  \n",
      " 2   target  1551 non-null   float64\n",
      " 3   실적작업장   1551 non-null   object \n",
      " 4   투입인원    1551 non-null   int64  \n",
      " 5   작업시간    1551 non-null   float64\n",
      "dtypes: float64(2), int64(3), object(1)\n",
      "memory usage: 84.8+ KB\n"
     ]
    }
   ],
   "source": [
    "df_drop_columns.info()"
   ]
  },
  {
   "cell_type": "code",
   "execution_count": 7,
   "id": "piano-radar",
   "metadata": {
    "execution": {
     "iopub.execute_input": "2021-05-06T06:33:33.496633Z",
     "iopub.status.busy": "2021-05-06T06:33:33.496633Z",
     "iopub.status.idle": "2021-05-06T06:33:33.525251Z",
     "shell.execute_reply": "2021-05-06T06:33:33.524063Z",
     "shell.execute_reply.started": "2021-05-06T06:33:33.496633Z"
    }
   },
   "outputs": [
    {
     "name": "stdout",
     "output_type": "stream",
     "text": [
      "<class 'pandas.core.frame.DataFrame'>\n",
      "Int64Index: 1272 entries, 0 to 1550\n",
      "Data columns (total 6 columns):\n",
      " #   Column  Non-Null Count  Dtype  \n",
      "---  ------  --------------  -----  \n",
      " 0   생산순번    1272 non-null   int64  \n",
      " 1   생산지시순번  1272 non-null   int64  \n",
      " 2   target  1272 non-null   float64\n",
      " 3   실적작업장   1272 non-null   object \n",
      " 4   투입인원    1272 non-null   int64  \n",
      " 5   작업시간    1272 non-null   float64\n",
      "dtypes: float64(2), int64(3), object(1)\n",
      "memory usage: 69.6+ KB\n"
     ]
    }
   ],
   "source": [
    "# 작업시간 0인 row 제거\n",
    "df_drop_columns = df_drop_columns.query('작업시간!=0')\n",
    "df_drop_columns.info()"
   ]
  },
  {
   "cell_type": "code",
   "execution_count": 8,
   "id": "solved-commander",
   "metadata": {
    "execution": {
     "iopub.execute_input": "2021-05-06T06:33:33.526949Z",
     "iopub.status.busy": "2021-05-06T06:33:33.526949Z",
     "iopub.status.idle": "2021-05-06T06:33:33.555798Z",
     "shell.execute_reply": "2021-05-06T06:33:33.554921Z",
     "shell.execute_reply.started": "2021-05-06T06:33:33.526949Z"
    },
    "tags": []
   },
   "outputs": [
    {
     "data": {
      "text/html": [
       "<div>\n",
       "<style scoped>\n",
       "    .dataframe tbody tr th:only-of-type {\n",
       "        vertical-align: middle;\n",
       "    }\n",
       "\n",
       "    .dataframe tbody tr th {\n",
       "        vertical-align: top;\n",
       "    }\n",
       "\n",
       "    .dataframe thead th {\n",
       "        text-align: right;\n",
       "    }\n",
       "</style>\n",
       "<table border=\"1\" class=\"dataframe\">\n",
       "  <thead>\n",
       "    <tr style=\"text-align: right;\">\n",
       "      <th></th>\n",
       "      <th>생산순번</th>\n",
       "      <th>생산지시순번</th>\n",
       "      <th>target</th>\n",
       "      <th>실적작업장</th>\n",
       "      <th>투입인원</th>\n",
       "      <th>작업시간</th>\n",
       "      <th>생산대기일수</th>\n",
       "    </tr>\n",
       "  </thead>\n",
       "  <tbody>\n",
       "    <tr>\n",
       "      <th>0</th>\n",
       "      <td>9</td>\n",
       "      <td>55</td>\n",
       "      <td>365.0</td>\n",
       "      <td>A11</td>\n",
       "      <td>3</td>\n",
       "      <td>8.0</td>\n",
       "      <td>2 days</td>\n",
       "    </tr>\n",
       "    <tr>\n",
       "      <th>1</th>\n",
       "      <td>11</td>\n",
       "      <td>68</td>\n",
       "      <td>20.0</td>\n",
       "      <td>A23</td>\n",
       "      <td>2</td>\n",
       "      <td>3.0</td>\n",
       "      <td>2 days</td>\n",
       "    </tr>\n",
       "    <tr>\n",
       "      <th>4</th>\n",
       "      <td>17</td>\n",
       "      <td>44</td>\n",
       "      <td>300.0</td>\n",
       "      <td>A22</td>\n",
       "      <td>1</td>\n",
       "      <td>1.0</td>\n",
       "      <td>2 days</td>\n",
       "    </tr>\n",
       "    <tr>\n",
       "      <th>5</th>\n",
       "      <td>17</td>\n",
       "      <td>44</td>\n",
       "      <td>300.0</td>\n",
       "      <td>A22</td>\n",
       "      <td>1</td>\n",
       "      <td>1.0</td>\n",
       "      <td>2 days</td>\n",
       "    </tr>\n",
       "    <tr>\n",
       "      <th>6</th>\n",
       "      <td>19</td>\n",
       "      <td>69</td>\n",
       "      <td>3.0</td>\n",
       "      <td>A23</td>\n",
       "      <td>2</td>\n",
       "      <td>3.0</td>\n",
       "      <td>2 days</td>\n",
       "    </tr>\n",
       "  </tbody>\n",
       "</table>\n",
       "</div>"
      ],
      "text/plain": [
       "   생산순번  생산지시순번  target 실적작업장  투입인원  작업시간 생산대기일수\n",
       "0     9      55   365.0   A11     3   8.0 2 days\n",
       "1    11      68    20.0   A23     2   3.0 2 days\n",
       "4    17      44   300.0   A22     1   1.0 2 days\n",
       "5    17      44   300.0   A22     1   1.0 2 days\n",
       "6    19      69     3.0   A23     2   3.0 2 days"
      ]
     },
     "execution_count": 8,
     "metadata": {},
     "output_type": "execute_result"
    }
   ],
   "source": [
    "# feature engineering\n",
    "# 작업시작일시 - 생산지시일지 : 생산대기시간\n",
    "df[\"작업시작일시\"] = pd.to_datetime(df[\"작업시작일시\"])\n",
    "df[\"생산지시생성일자\"] = pd.to_datetime(df[\"생산지시생성일자\"])\n",
    "df_drop_columns['생산대기일수'] = df[\"작업시작일시\"].dt.date - df[\"생산지시생성일자\"].dt.date\n",
    "df_added = df_drop_columns.copy()\n",
    "del df_drop_columns\n",
    "df_added.head()"
   ]
  },
  {
   "cell_type": "code",
   "execution_count": 9,
   "id": "greek-facing",
   "metadata": {
    "execution": {
     "iopub.execute_input": "2021-05-06T06:33:33.558001Z",
     "iopub.status.busy": "2021-05-06T06:33:33.558001Z",
     "iopub.status.idle": "2021-05-06T06:33:33.570603Z",
     "shell.execute_reply": "2021-05-06T06:33:33.570093Z",
     "shell.execute_reply.started": "2021-05-06T06:33:33.558001Z"
    },
    "tags": []
   },
   "outputs": [
    {
     "name": "stdout",
     "output_type": "stream",
     "text": [
      "<class 'pandas.core.frame.DataFrame'>\n",
      "Int64Index: 1272 entries, 0 to 1550\n",
      "Data columns (total 7 columns):\n",
      " #   Column  Non-Null Count  Dtype          \n",
      "---  ------  --------------  -----          \n",
      " 0   생산순번    1272 non-null   int64          \n",
      " 1   생산지시순번  1272 non-null   int64          \n",
      " 2   target  1272 non-null   float64        \n",
      " 3   실적작업장   1272 non-null   object         \n",
      " 4   투입인원    1272 non-null   int64          \n",
      " 5   작업시간    1272 non-null   float64        \n",
      " 6   생산대기일수  1272 non-null   timedelta64[ns]\n",
      "dtypes: float64(2), int64(3), object(1), timedelta64[ns](1)\n",
      "memory usage: 79.5+ KB\n"
     ]
    }
   ],
   "source": [
    "df_added.info()"
   ]
  },
  {
   "cell_type": "code",
   "execution_count": 10,
   "id": "complimentary-retro",
   "metadata": {
    "execution": {
     "iopub.execute_input": "2021-05-06T06:33:33.571898Z",
     "iopub.status.busy": "2021-05-06T06:33:33.571898Z",
     "iopub.status.idle": "2021-05-06T06:33:33.585979Z",
     "shell.execute_reply": "2021-05-06T06:33:33.585464Z",
     "shell.execute_reply.started": "2021-05-06T06:33:33.571898Z"
    },
    "tags": []
   },
   "outputs": [
    {
     "data": {
      "text/html": [
       "<div>\n",
       "<style scoped>\n",
       "    .dataframe tbody tr th:only-of-type {\n",
       "        vertical-align: middle;\n",
       "    }\n",
       "\n",
       "    .dataframe tbody tr th {\n",
       "        vertical-align: top;\n",
       "    }\n",
       "\n",
       "    .dataframe thead th {\n",
       "        text-align: right;\n",
       "    }\n",
       "</style>\n",
       "<table border=\"1\" class=\"dataframe\">\n",
       "  <thead>\n",
       "    <tr style=\"text-align: right;\">\n",
       "      <th></th>\n",
       "      <th>생산순번</th>\n",
       "      <th>생산지시순번</th>\n",
       "      <th>target</th>\n",
       "      <th>실적작업장</th>\n",
       "      <th>투입인원</th>\n",
       "      <th>작업시간</th>\n",
       "      <th>생산대기일수</th>\n",
       "    </tr>\n",
       "  </thead>\n",
       "  <tbody>\n",
       "    <tr>\n",
       "      <th>0</th>\n",
       "      <td>9</td>\n",
       "      <td>55</td>\n",
       "      <td>365.0</td>\n",
       "      <td>A11</td>\n",
       "      <td>3</td>\n",
       "      <td>8.0</td>\n",
       "      <td>2 days</td>\n",
       "    </tr>\n",
       "    <tr>\n",
       "      <th>1</th>\n",
       "      <td>11</td>\n",
       "      <td>68</td>\n",
       "      <td>20.0</td>\n",
       "      <td>A23</td>\n",
       "      <td>2</td>\n",
       "      <td>3.0</td>\n",
       "      <td>2 days</td>\n",
       "    </tr>\n",
       "    <tr>\n",
       "      <th>4</th>\n",
       "      <td>17</td>\n",
       "      <td>44</td>\n",
       "      <td>300.0</td>\n",
       "      <td>A22</td>\n",
       "      <td>1</td>\n",
       "      <td>1.0</td>\n",
       "      <td>2 days</td>\n",
       "    </tr>\n",
       "    <tr>\n",
       "      <th>5</th>\n",
       "      <td>17</td>\n",
       "      <td>44</td>\n",
       "      <td>300.0</td>\n",
       "      <td>A22</td>\n",
       "      <td>1</td>\n",
       "      <td>1.0</td>\n",
       "      <td>2 days</td>\n",
       "    </tr>\n",
       "    <tr>\n",
       "      <th>6</th>\n",
       "      <td>19</td>\n",
       "      <td>69</td>\n",
       "      <td>3.0</td>\n",
       "      <td>A23</td>\n",
       "      <td>2</td>\n",
       "      <td>3.0</td>\n",
       "      <td>2 days</td>\n",
       "    </tr>\n",
       "  </tbody>\n",
       "</table>\n",
       "</div>"
      ],
      "text/plain": [
       "   생산순번  생산지시순번  target 실적작업장  투입인원  작업시간 생산대기일수\n",
       "0     9      55   365.0   A11     3   8.0 2 days\n",
       "1    11      68    20.0   A23     2   3.0 2 days\n",
       "4    17      44   300.0   A22     1   1.0 2 days\n",
       "5    17      44   300.0   A22     1   1.0 2 days\n",
       "6    19      69     3.0   A23     2   3.0 2 days"
      ]
     },
     "execution_count": 10,
     "metadata": {},
     "output_type": "execute_result"
    }
   ],
   "source": [
    "df_added.head()"
   ]
  },
  {
   "cell_type": "code",
   "execution_count": 11,
   "id": "flying-finger",
   "metadata": {
    "execution": {
     "iopub.execute_input": "2021-05-06T06:33:33.586883Z",
     "iopub.status.busy": "2021-05-06T06:33:33.586883Z",
     "iopub.status.idle": "2021-05-06T06:33:33.602540Z",
     "shell.execute_reply": "2021-05-06T06:33:33.601092Z",
     "shell.execute_reply.started": "2021-05-06T06:33:33.586883Z"
    },
    "tags": []
   },
   "outputs": [
    {
     "data": {
      "text/plain": [
       "array(['A11', 'A23', 'A22', 'A21', 'A24'], dtype=object)"
      ]
     },
     "execution_count": 11,
     "metadata": {},
     "output_type": "execute_result"
    }
   ],
   "source": [
    "df_added['실적작업장'].unique()"
   ]
  },
  {
   "cell_type": "code",
   "execution_count": 12,
   "id": "medieval-diagram",
   "metadata": {
    "execution": {
     "iopub.execute_input": "2021-05-06T06:33:33.605265Z",
     "iopub.status.busy": "2021-05-06T06:33:33.604765Z",
     "iopub.status.idle": "2021-05-06T06:33:33.631925Z",
     "shell.execute_reply": "2021-05-06T06:33:33.631498Z",
     "shell.execute_reply.started": "2021-05-06T06:33:33.605265Z"
    }
   },
   "outputs": [
    {
     "data": {
      "text/html": [
       "<div>\n",
       "<style scoped>\n",
       "    .dataframe tbody tr th:only-of-type {\n",
       "        vertical-align: middle;\n",
       "    }\n",
       "\n",
       "    .dataframe tbody tr th {\n",
       "        vertical-align: top;\n",
       "    }\n",
       "\n",
       "    .dataframe thead th {\n",
       "        text-align: right;\n",
       "    }\n",
       "</style>\n",
       "<table border=\"1\" class=\"dataframe\">\n",
       "  <thead>\n",
       "    <tr style=\"text-align: right;\">\n",
       "      <th></th>\n",
       "      <th>생산순번</th>\n",
       "      <th>생산지시순번</th>\n",
       "      <th>target</th>\n",
       "      <th>투입인원</th>\n",
       "      <th>작업시간</th>\n",
       "      <th>생산대기일수</th>\n",
       "      <th>실적작업장_A11</th>\n",
       "      <th>실적작업장_A21</th>\n",
       "      <th>실적작업장_A22</th>\n",
       "      <th>실적작업장_A23</th>\n",
       "      <th>실적작업장_A24</th>\n",
       "    </tr>\n",
       "  </thead>\n",
       "  <tbody>\n",
       "    <tr>\n",
       "      <th>0</th>\n",
       "      <td>9</td>\n",
       "      <td>55</td>\n",
       "      <td>365.0</td>\n",
       "      <td>3</td>\n",
       "      <td>8.0</td>\n",
       "      <td>2 days</td>\n",
       "      <td>1</td>\n",
       "      <td>0</td>\n",
       "      <td>0</td>\n",
       "      <td>0</td>\n",
       "      <td>0</td>\n",
       "    </tr>\n",
       "    <tr>\n",
       "      <th>1</th>\n",
       "      <td>11</td>\n",
       "      <td>68</td>\n",
       "      <td>20.0</td>\n",
       "      <td>2</td>\n",
       "      <td>3.0</td>\n",
       "      <td>2 days</td>\n",
       "      <td>0</td>\n",
       "      <td>0</td>\n",
       "      <td>0</td>\n",
       "      <td>1</td>\n",
       "      <td>0</td>\n",
       "    </tr>\n",
       "    <tr>\n",
       "      <th>4</th>\n",
       "      <td>17</td>\n",
       "      <td>44</td>\n",
       "      <td>300.0</td>\n",
       "      <td>1</td>\n",
       "      <td>1.0</td>\n",
       "      <td>2 days</td>\n",
       "      <td>0</td>\n",
       "      <td>0</td>\n",
       "      <td>1</td>\n",
       "      <td>0</td>\n",
       "      <td>0</td>\n",
       "    </tr>\n",
       "    <tr>\n",
       "      <th>5</th>\n",
       "      <td>17</td>\n",
       "      <td>44</td>\n",
       "      <td>300.0</td>\n",
       "      <td>1</td>\n",
       "      <td>1.0</td>\n",
       "      <td>2 days</td>\n",
       "      <td>0</td>\n",
       "      <td>0</td>\n",
       "      <td>1</td>\n",
       "      <td>0</td>\n",
       "      <td>0</td>\n",
       "    </tr>\n",
       "    <tr>\n",
       "      <th>6</th>\n",
       "      <td>19</td>\n",
       "      <td>69</td>\n",
       "      <td>3.0</td>\n",
       "      <td>2</td>\n",
       "      <td>3.0</td>\n",
       "      <td>2 days</td>\n",
       "      <td>0</td>\n",
       "      <td>0</td>\n",
       "      <td>0</td>\n",
       "      <td>1</td>\n",
       "      <td>0</td>\n",
       "    </tr>\n",
       "  </tbody>\n",
       "</table>\n",
       "</div>"
      ],
      "text/plain": [
       "   생산순번  생산지시순번  target  투입인원  작업시간 생산대기일수  실적작업장_A11  실적작업장_A21  실적작업장_A22  \\\n",
       "0     9      55   365.0     3   8.0 2 days          1          0          0   \n",
       "1    11      68    20.0     2   3.0 2 days          0          0          0   \n",
       "4    17      44   300.0     1   1.0 2 days          0          0          1   \n",
       "5    17      44   300.0     1   1.0 2 days          0          0          1   \n",
       "6    19      69     3.0     2   3.0 2 days          0          0          0   \n",
       "\n",
       "   실적작업장_A23  실적작업장_A24  \n",
       "0          0          0  \n",
       "1          1          0  \n",
       "4          0          0  \n",
       "5          0          0  \n",
       "6          1          0  "
      ]
     },
     "execution_count": 12,
     "metadata": {},
     "output_type": "execute_result"
    }
   ],
   "source": [
    "# 실적작업장 One-Hot Encoding\n",
    "df_encoded = pd.get_dummies(df_added, columns=['실적작업장'])\n",
    "df_encoded.head()"
   ]
  },
  {
   "cell_type": "code",
   "execution_count": 13,
   "id": "breathing-october",
   "metadata": {
    "execution": {
     "iopub.execute_input": "2021-05-06T06:33:33.633125Z",
     "iopub.status.busy": "2021-05-06T06:33:33.633125Z",
     "iopub.status.idle": "2021-05-06T06:33:33.647402Z",
     "shell.execute_reply": "2021-05-06T06:33:33.646996Z",
     "shell.execute_reply.started": "2021-05-06T06:33:33.633125Z"
    },
    "tags": []
   },
   "outputs": [],
   "source": [
    "feature_columns = ['생산순번','생산지시순번','투입인원','작업시간','생산대기일수',\n",
    "                   '실적작업장_A11','실적작업장_A21','실적작업장_A22','실적작업장_A23','실적작업장_A24']"
   ]
  },
  {
   "cell_type": "code",
   "execution_count": 14,
   "id": "brief-rotation",
   "metadata": {
    "execution": {
     "iopub.execute_input": "2021-05-06T06:33:33.647903Z",
     "iopub.status.busy": "2021-05-06T06:33:33.647903Z",
     "iopub.status.idle": "2021-05-06T06:33:33.662739Z",
     "shell.execute_reply": "2021-05-06T06:33:33.661716Z",
     "shell.execute_reply.started": "2021-05-06T06:33:33.647903Z"
    },
    "tags": []
   },
   "outputs": [],
   "source": [
    "X_train, X_test, y_train, y_test = train_test_split(df_encoded[feature_columns], df_encoded['target'], test_size=0.2, random_state=2021)"
   ]
  },
  {
   "cell_type": "code",
   "execution_count": 15,
   "id": "geographic-quantum",
   "metadata": {
    "execution": {
     "iopub.execute_input": "2021-05-06T06:33:33.663570Z",
     "iopub.status.busy": "2021-05-06T06:33:33.663570Z",
     "iopub.status.idle": "2021-05-06T06:33:33.755850Z",
     "shell.execute_reply": "2021-05-06T06:33:33.755348Z",
     "shell.execute_reply.started": "2021-05-06T06:33:33.663570Z"
    },
    "tags": []
   },
   "outputs": [],
   "source": [
    "# Scaling\n",
    "std_scaler = preprocessing.StandardScaler()\n",
    "\n",
    "# Try using .loc[row_indexer,col_indexer] = value instead\n",
    "for feature in feature_columns:\n",
    "    std_scaler.fit(X_train[[feature]])\n",
    "    X_train_scaled = std_scaler.transform(X_train[[feature]])\n",
    "    X_train[[feature]] = X_train_scaled\n",
    "    \n",
    "    X_test_scaled = std_scaler.transform(X_test[[feature]])\n",
    "    X_test[[feature]] = X_test_scaled"
   ]
  },
  {
   "cell_type": "markdown",
   "id": "removable-given",
   "metadata": {},
   "source": [
    "### 선형회귀"
   ]
  },
  {
   "cell_type": "code",
   "execution_count": 16,
   "id": "french-journal",
   "metadata": {
    "execution": {
     "iopub.execute_input": "2021-05-06T06:33:33.756942Z",
     "iopub.status.busy": "2021-05-06T06:33:33.755850Z",
     "iopub.status.idle": "2021-05-06T06:33:33.802504Z",
     "shell.execute_reply": "2021-05-06T06:33:33.802005Z",
     "shell.execute_reply.started": "2021-05-06T06:33:33.756942Z"
    },
    "tags": []
   },
   "outputs": [
    {
     "data": {
      "text/plain": [
       "12320.841260676269"
      ]
     },
     "execution_count": 16,
     "metadata": {},
     "output_type": "execute_result"
    }
   ],
   "source": [
    "lr_model = LinearRegression()\n",
    "lr_model.fit(X_train, y_train)\n",
    "pred_lr = lr_model.predict(X_test)\n",
    "mean_squared_error(y_test, pred_lr)"
   ]
  },
  {
   "cell_type": "code",
   "execution_count": 17,
   "id": "earned-powell",
   "metadata": {
    "execution": {
     "iopub.execute_input": "2021-05-06T06:33:33.803514Z",
     "iopub.status.busy": "2021-05-06T06:33:33.803514Z",
     "iopub.status.idle": "2021-05-06T06:33:33.817597Z",
     "shell.execute_reply": "2021-05-06T06:33:33.817097Z",
     "shell.execute_reply.started": "2021-05-06T06:33:33.803514Z"
    },
    "tags": []
   },
   "outputs": [
    {
     "data": {
      "text/plain": [
       "12316.551319362692"
      ]
     },
     "execution_count": 17,
     "metadata": {},
     "output_type": "execute_result"
    }
   ],
   "source": [
    "ridge_model = Ridge(alpha=10.0, random_state=2021) # alpha : Regularization 정도\n",
    "ridge_model.fit(X_train, y_train)\n",
    "pred_ridge = ridge_model.predict(X_test)\n",
    "mean_squared_error(y_test, pred_ridge)"
   ]
  },
  {
   "cell_type": "code",
   "execution_count": 18,
   "id": "subject-remark",
   "metadata": {
    "execution": {
     "iopub.execute_input": "2021-05-06T06:33:33.819152Z",
     "iopub.status.busy": "2021-05-06T06:33:33.818650Z",
     "iopub.status.idle": "2021-05-06T06:33:33.832670Z",
     "shell.execute_reply": "2021-05-06T06:33:33.832170Z",
     "shell.execute_reply.started": "2021-05-06T06:33:33.819152Z"
    },
    "tags": []
   },
   "outputs": [
    {
     "data": {
      "text/plain": [
       "12600.357005145343"
      ]
     },
     "execution_count": 18,
     "metadata": {},
     "output_type": "execute_result"
    }
   ],
   "source": [
    "lasso_model = Lasso(alpha=10.0, random_state=2021)\n",
    "lasso_model.fit(X_train, y_train)\n",
    "pred_lasso = lasso_model.predict(X_test)\n",
    "mean_squared_error(y_test, pred_lasso)"
   ]
  },
  {
   "cell_type": "code",
   "execution_count": 19,
   "id": "military-devices",
   "metadata": {
    "execution": {
     "iopub.execute_input": "2021-05-06T06:33:33.834241Z",
     "iopub.status.busy": "2021-05-06T06:33:33.833740Z",
     "iopub.status.idle": "2021-05-06T06:33:33.847711Z",
     "shell.execute_reply": "2021-05-06T06:33:33.847210Z",
     "shell.execute_reply.started": "2021-05-06T06:33:33.834241Z"
    },
    "tags": []
   },
   "outputs": [
    {
     "data": {
      "text/plain": [
       "12303.283249555318"
      ]
     },
     "execution_count": 19,
     "metadata": {},
     "output_type": "execute_result"
    }
   ],
   "source": [
    "enet_model = ElasticNet(alpha=1, l1_ratio=0.8)\n",
    "enet_model.fit(X_train, y_train)\n",
    "pred_enet = enet_model.predict(X_test)\n",
    "mean_squared_error(y_test, pred_enet)"
   ]
  },
  {
   "cell_type": "markdown",
   "id": "transparent-bryan",
   "metadata": {},
   "source": [
    "### 다항회귀"
   ]
  },
  {
   "cell_type": "code",
   "execution_count": 31,
   "id": "emotional-wiring",
   "metadata": {
    "execution": {
     "iopub.execute_input": "2021-05-06T06:37:01.842855Z",
     "iopub.status.busy": "2021-05-06T06:37:01.842855Z",
     "iopub.status.idle": "2021-05-06T06:37:01.864319Z",
     "shell.execute_reply": "2021-05-06T06:37:01.863729Z",
     "shell.execute_reply.started": "2021-05-06T06:37:01.842855Z"
    },
    "tags": []
   },
   "outputs": [
    {
     "data": {
      "text/plain": [
       "11312.430174865618"
      ]
     },
     "execution_count": 31,
     "metadata": {},
     "output_type": "execute_result"
    }
   ],
   "source": [
    "poly_model = make_pipeline(preprocessing.PolynomialFeatures(2), Ridge())\n",
    "#poly_model = make_pipeline(preprocessing.PolynomialFeatures(2), Lasso())\n",
    "poly_model.fit(X_train, y_train)\n",
    "pred_poly_model = poly_model.predict(X_test)\n",
    "mean_squared_error(y_test, pred_poly_model)"
   ]
  },
  {
   "cell_type": "markdown",
   "id": "amateur-depth",
   "metadata": {},
   "source": [
    "### SVR"
   ]
  },
  {
   "cell_type": "code",
   "execution_count": 21,
   "id": "failing-daisy",
   "metadata": {
    "execution": {
     "iopub.execute_input": "2021-05-06T06:33:33.879337Z",
     "iopub.status.busy": "2021-05-06T06:33:33.878838Z",
     "iopub.status.idle": "2021-05-06T06:33:34.000677Z",
     "shell.execute_reply": "2021-05-06T06:33:34.000177Z",
     "shell.execute_reply.started": "2021-05-06T06:33:33.878838Z"
    },
    "tags": []
   },
   "outputs": [
    {
     "data": {
      "text/plain": [
       "12284.51994508744"
      ]
     },
     "execution_count": 21,
     "metadata": {},
     "output_type": "execute_result"
    }
   ],
   "source": [
    "svr_rbf = SVR(kernel='rbf', C=100, gamma='auto', epsilon=0.1)\n",
    "# C : 정규화 매개변수, 정규화 강도화 반비례\n",
    "# gamma : kernel 계수\n",
    "# epsilo\n",
    "svr_rbf.fit(X_train, y_train)\n",
    "pred_svr_rbf = svr_rbf.predict(X_test)\n",
    "mean_squared_error(y_test, pred_svr_rbf)"
   ]
  },
  {
   "cell_type": "code",
   "execution_count": 22,
   "id": "studied-handling",
   "metadata": {
    "execution": {
     "iopub.execute_input": "2021-05-06T06:33:34.001692Z",
     "iopub.status.busy": "2021-05-06T06:33:34.001692Z",
     "iopub.status.idle": "2021-05-06T06:33:34.138064Z",
     "shell.execute_reply": "2021-05-06T06:33:34.138064Z",
     "shell.execute_reply.started": "2021-05-06T06:33:34.001692Z"
    },
    "tags": []
   },
   "outputs": [
    {
     "data": {
      "text/plain": [
       "15063.440147536914"
      ]
     },
     "execution_count": 22,
     "metadata": {},
     "output_type": "execute_result"
    }
   ],
   "source": [
    "svr_lin = SVR(kernel='linear', C=100, gamma='auto')\n",
    "svr_lin.fit(X_train, y_train)\n",
    "pred_svr_lin = svr_lin.predict(X_test)\n",
    "mean_squared_error(y_test, pred_svr_lin)"
   ]
  },
  {
   "cell_type": "code",
   "execution_count": 23,
   "id": "invisible-species",
   "metadata": {
    "execution": {
     "iopub.execute_input": "2021-05-06T06:33:34.139092Z",
     "iopub.status.busy": "2021-05-06T06:33:34.139092Z",
     "iopub.status.idle": "2021-05-06T06:33:34.245719Z",
     "shell.execute_reply": "2021-05-06T06:33:34.245242Z",
     "shell.execute_reply.started": "2021-05-06T06:33:34.139092Z"
    },
    "tags": []
   },
   "outputs": [
    {
     "data": {
      "text/plain": [
       "11519.053339027474"
      ]
     },
     "execution_count": 23,
     "metadata": {},
     "output_type": "execute_result"
    }
   ],
   "source": [
    "svr_poly = SVR(kernel='poly', C=100, gamma='auto', degree=2, epsilon=0.1, coef0=1)\n",
    "svr_poly.fit(X_train, y_train)\n",
    "pred_svr_poly = svr_poly.predict(X_test)\n",
    "mean_squared_error(y_test, pred_svr_poly)"
   ]
  },
  {
   "cell_type": "markdown",
   "id": "burning-detroit",
   "metadata": {},
   "source": [
    "## 보완점\n",
    "- 전처리 과정에서 많은 컬럼들이 제거되어 생산실적 예측에 필요한 feature들 개수가 현저히 적어짐\n",
    "    - 다른 테이블과의 join을 통해 생산실적 예측 학습에 쓰일만한 feature에 대한 추가적인 분석이 필요\n",
    "- 품목코드의 경우 One-Hot Encoding을 하기엔 수가 많고 Label Encoding을 하기엔 회귀 모델에 영향을 줄 것 같아 제거\n",
    "    - 품목별로 충분한 양의 row개수가 확보된다면 전체 라인에서 생산하는 실적량 예측이 아닌 특정 품목에 대한 예측을 수행하는 것이 오차를 줄일 수 있는 방법이라 생각됨"
   ]
  },
  {
   "cell_type": "code",
   "execution_count": 24,
   "id": "defensive-pendant",
   "metadata": {
    "execution": {
     "iopub.execute_input": "2021-05-06T06:33:34.247842Z",
     "iopub.status.busy": "2021-05-06T06:33:34.247842Z",
     "iopub.status.idle": "2021-05-06T06:33:34.809113Z",
     "shell.execute_reply": "2021-05-06T06:33:34.809113Z",
     "shell.execute_reply.started": "2021-05-06T06:33:34.247842Z"
    },
    "tags": []
   },
   "outputs": [
    {
     "name": "stdout",
     "output_type": "stream",
     "text": [
      "74372124001 :  46\n",
      "72313460304 :  52\n",
      "72311176262 :  10\n",
      "72311176261 :  52\n",
      "38020088 :  16\n",
      "72313460305 :  13\n",
      "72313460324 :  14\n",
      "72313460327 :  17\n",
      "72313460328 :  2\n",
      "72313471306 :  1\n",
      "38060134 :  17\n",
      "72312724118 :  46\n",
      "38020082 :  9\n",
      "99313460672 :  12\n",
      "72312724117 :  7\n",
      "72312724126 :  8\n",
      "38060132 :  13\n",
      "72311176264 :  16\n",
      "72313466301 :  35\n",
      "73263466359 :  20\n",
      "73263466360 :  5\n",
      "73263466356 :  1\n",
      "38080008 :  4\n",
      "38080010 :  13\n",
      "38080012 :  5\n",
      "38060172 :  2\n",
      "38060173 :  3\n",
      "38060174 :  2\n",
      "3806013200 :  1\n",
      "38060133 :  17\n",
      "38020038 :  4\n",
      "38020039 :  6\n",
      "38020084 :  10\n",
      "38020123 :  17\n",
      "37060012 :  7\n",
      "37060011 :  7\n",
      "72313460348 :  7\n",
      "72313460302 :  21\n",
      "72312724127 :  4\n",
      "74372124002 :  3\n",
      "38040051 :  1\n",
      "38020118 :  21\n",
      "72311176301 :  20\n",
      "38020117 :  21\n",
      "38040050 :  13\n",
      "72313460301 :  48\n",
      "37020023 :  2\n",
      "3808001000 :  15\n",
      "38060054 :  11\n",
      "38060055 :  9\n",
      "73261176006 :  6\n",
      "73263466363 :  19\n",
      "38040028 :  7\n",
      "37020022 :  8\n",
      "37020024 :  3\n",
      "37020030 :  3\n",
      "37020032 :  3\n",
      "38040019 :  1\n",
      "38040003 :  3\n",
      "38040020 :  9\n",
      "38040027 :  1\n",
      "38040023 :  1\n",
      "38040024 :  6\n",
      "38040007 :  1\n",
      "38080011 :  13\n",
      "72313460030 :  11\n",
      "72313460312 :  5\n",
      "72313460325 :  15\n",
      "38020044 :  2\n",
      "38020045 :  5\n",
      "3808001100 :  8\n",
      "38020043 :  1\n",
      "3806013400 :  2\n",
      "3806013238 :  3\n",
      "38020013 :  2\n",
      "3806013438 :  2\n",
      "38060077 :  9\n",
      "38060078 :  8\n",
      "38060182 :  4\n",
      "72313460690 :  5\n",
      "38020014 :  8\n",
      "73263460100 :  1\n",
      "38040004 :  8\n",
      "38020033 :  5\n",
      "64622713311 :  30\n",
      "38020025 :  2\n",
      "72312724120 :  19\n",
      "38020031 :  2\n",
      "38020026 :  1\n",
      "72313460391 :  15\n",
      "38020007 :  2\n",
      "38020086 :  5\n",
      "38020083 :  1\n",
      "38020085 :  7\n",
      "38020081 :  10\n",
      "38050008 :  1\n",
      "38120020 :  3\n",
      "38120022 :  5\n",
      "38050004 :  7\n",
      "38060060 :  2\n",
      "38060062 :  3\n",
      "38020111 :  2\n",
      "38020112 :  1\n",
      "73261176003 :  6\n",
      "72313460723 :  1\n",
      "72313460724 :  2\n",
      "72313460727 :  5\n",
      "3805000438 :  1\n",
      "38060061 :  15\n",
      "38060059 :  9\n",
      "38020097 :  1\n",
      "38040054 :  3\n",
      "38060143 :  6\n",
      "37060007 :  1\n",
      "72313460209 :  2\n",
      "72313460689 :  1\n",
      "72313471310 :  1\n",
      "72313471308 :  2\n",
      "72313173611 :  1\n",
      "72313460306 :  14\n",
      "73261176004 :  13\n",
      "73261176005 :  4\n",
      "73263466366 :  2\n",
      "72313460308 :  1\n",
      "38020087 :  16\n",
      "72313466506 :  1\n",
      "38040056 :  8\n",
      "38020009 :  6\n",
      "38020008 :  5\n",
      "38060079 :  2\n",
      "38060141 :  6\n",
      "38020015 :  7\n",
      "72313460392 :  3\n",
      "3806017400 :  1\n",
      "38050005 :  4\n",
      "72313460329 :  2\n",
      "72313460208 :  9\n",
      "73263460106 :  4\n",
      "3806017300 :  1\n",
      "72313460728 :  2\n",
      "38050003 :  6\n",
      "38060167 :  6\n",
      "3812003100 :  1\n",
      "38120032 :  4\n",
      "38040052 :  6\n",
      "3808001300 :  3\n",
      "3802008731 :  1\n",
      "38060080 :  3\n",
      "72313460313 :  2\n",
      "72313460314 :  1\n",
      "72313460341 :  1\n",
      "72313460358 :  3\n",
      "72313471305 :  2\n",
      "38060158 :  1\n",
      "72313460091 :  3\n",
      "38060073 :  9\n",
      "3805000601 :  2\n",
      "39310537 :  1\n",
      "39310548 :  1\n",
      "39310549 :  1\n",
      "3802008800 :  3\n",
      "39310308 :  9\n",
      "37130003 :  3\n",
      "38020124 :  18\n",
      "3802005501 :  1\n",
      "72313460335 :  2\n",
      "3802003200 :  1\n",
      "3802005401 :  4\n",
      "3802008700 :  2\n",
      "72313460095 :  2\n",
      "3804003301 :  1\n",
      "37060013 :  2\n",
      "72313173613 :  1\n",
      "38060056 :  3\n",
      "3806008200 :  2\n",
      "38020116 :  7\n",
      "38060082 :  4\n",
      "72313460092 :  2\n",
      "72313460350 :  1\n",
      "38060074 :  7\n",
      "3806007400 :  3\n",
      "38060081 :  2\n",
      "73263460104 :  2\n",
      "72313460094 :  2\n",
      "38040008 :  3\n",
      "3805000500 :  1\n",
      "3805000331 :  1\n",
      "72313460347 :  4\n",
      "38060166 :  4\n",
      "72313460410 :  3\n",
      "72313460337 :  2\n",
      "39310320 :  4\n",
      "39310351 :  1\n",
      "3806008100 :  1\n",
      "39410001 :  1\n",
      "38060157 :  4\n",
      "72313460093 :  3\n",
      "38060122 :  1\n",
      "380400249M :  1\n",
      "38120034 :  4\n",
      "380200139M :  1\n",
      "72313460729 :  2\n",
      "72313460722 :  3\n",
      "3812003200 :  1\n",
      "39410012 :  1\n",
      "3802008100 :  2\n",
      "72313471304 :  6\n",
      "64622713312 :  5\n",
      "38040049 :  5\n",
      "38080014 :  3\n",
      "38080015 :  1\n",
      "38080019 :  1\n",
      "38080018 :  2\n",
      "3808001200 :  3\n",
      "38080013 :  4\n",
      "37020029 :  4\n",
      "38060130 :  5\n",
      "38040058 :  3\n",
      "38120026 :  2\n",
      "73263466355 :  4\n",
      "3802001500 :  1\n",
      "38080009 :  7\n",
      "3806013300 :  1\n",
      "38020114 :  1\n",
      "38020096 :  1\n",
      "3806005500 :  1\n",
      "38020080 :  5\n",
      "38060131 :  4\n",
      "73263466365 :  1\n",
      "380800099M :  1\n",
      "76421173123 :  1\n",
      "76421173112 :  1\n",
      "76421174127 :  1\n",
      "76421174107 :  1\n",
      "76421173124 :  2\n",
      "380400209M :  1\n",
      "380200279M :  1\n",
      "38060098 :  1\n",
      "3806014300 :  1\n",
      "38060142 :  4\n",
      "37020028 :  1\n",
      "3806017200 :  1\n",
      "73261176002 :  1\n",
      "38120024 :  6\n",
      "79012612151 :  1\n",
      "37130001 :  1\n",
      "76421172143 :  1\n",
      "76421172145 :  1\n",
      "76421172113 :  1\n",
      "76421172174 :  1\n",
      "76421172176 :  1\n",
      "72313460709 :  1\n",
      "72313460726 :  1\n",
      "380500049M :  2\n",
      "38060156 :  1\n",
      "37060024 :  1\n",
      "39310315 :  1\n",
      "39310319 :  1\n",
      "380200089M :  1\n",
      "39310317 :  3\n",
      "38020032 :  2\n",
      "37060016 :  4\n",
      "77123460501 :  1\n",
      "77123466501 :  1\n",
      "72313460710 :  1\n",
      "72313460060 :  1\n",
      "3808000900 :  3\n",
      "380601349M :  1\n",
      "38020027 :  1\n",
      "3812003400 :  1\n",
      "38120030 :  2\n",
      "38060168 :  1\n",
      "72311176322 :  1\n",
      "3802011800 :  1\n",
      "39310314 :  4\n",
      "3802003935 :  1\n",
      "38020106 :  2\n",
      "38020105 :  2\n",
      "3804005031 :  2\n",
      "38020104 :  1\n",
      "38060153 :  1\n",
      "38060120 :  1\n",
      "39310395 :  1\n",
      "3802008501 :  1\n",
      "3802004900 :  1\n",
      "39310323 :  1\n",
      "39310322 :  2\n",
      "39310328 :  2\n",
      "72313460307 :  1\n",
      "3804005600 :  1\n",
      "3802012400 :  1\n",
      "380800139M :  1\n",
      "38040053 :  1\n",
      "72313460318 :  1\n",
      "72313460351 :  1\n",
      "38020122 :  1\n",
      "39310311 :  1\n",
      "72313460500 :  1\n",
      "380800119M :  1\n",
      "39310329 :  2\n",
      "3804005400 :  1\n",
      "3802008500 :  1\n",
      "72313460041 :  2\n",
      "38060176 :  1\n",
      "38040016 :  1\n",
      "380500039M :  1\n",
      "38060175 :  1\n",
      "37020021 :  1\n",
      "37020027 :  1\n",
      "72313460310 :  1\n",
      "38120028 :  2\n"
     ]
    }
   ],
   "source": [
    "# 품목별 row 개수\n",
    "for code in df['품목코드'].unique():\n",
    "    print(code, \": \", len(df.query('품목코드==\"{0}\"'.format(code))))"
   ]
  }
 ],
 "metadata": {
  "kernelspec": {
   "display_name": "Python 3",
   "language": "python",
   "name": "python3"
  },
  "language_info": {
   "codemirror_mode": {
    "name": "ipython",
    "version": 3
   },
   "file_extension": ".py",
   "mimetype": "text/x-python",
   "name": "python",
   "nbconvert_exporter": "python",
   "pygments_lexer": "ipython3",
   "version": "3.7.9"
  }
 },
 "nbformat": 4,
 "nbformat_minor": 5
}
